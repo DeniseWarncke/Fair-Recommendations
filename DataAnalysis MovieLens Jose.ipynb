{
 "cells": [
  {
   "cell_type": "code",
   "execution_count": 2,
   "metadata": {},
   "outputs": [],
   "source": [
    "import numpy as np\n",
    "import pandas as pd\n",
    "import matplotlib.pyplot as plt \n",
    "%matplotlib inline"
   ]
  },
  {
   "cell_type": "code",
   "execution_count": 3,
   "metadata": {},
   "outputs": [],
   "source": [
    "import math"
   ]
  },
  {
   "cell_type": "code",
   "execution_count": 4,
   "metadata": {},
   "outputs": [
    {
     "data": {
      "text/html": [
       "<div>\n",
       "<style scoped>\n",
       "    .dataframe tbody tr th:only-of-type {\n",
       "        vertical-align: middle;\n",
       "    }\n",
       "\n",
       "    .dataframe tbody tr th {\n",
       "        vertical-align: top;\n",
       "    }\n",
       "\n",
       "    .dataframe thead th {\n",
       "        text-align: right;\n",
       "    }\n",
       "</style>\n",
       "<table border=\"1\" class=\"dataframe\">\n",
       "  <thead>\n",
       "    <tr style=\"text-align: right;\">\n",
       "      <th></th>\n",
       "      <th>item</th>\n",
       "      <th>title</th>\n",
       "      <th>genres</th>\n",
       "    </tr>\n",
       "  </thead>\n",
       "  <tbody>\n",
       "    <tr>\n",
       "      <th>0</th>\n",
       "      <td>1</td>\n",
       "      <td>Toy Story (1995)</td>\n",
       "      <td>Adventure|Animation|Children|Comedy|Fantasy</td>\n",
       "    </tr>\n",
       "    <tr>\n",
       "      <th>1</th>\n",
       "      <td>2</td>\n",
       "      <td>Jumanji (1995)</td>\n",
       "      <td>Adventure|Children|Fantasy</td>\n",
       "    </tr>\n",
       "    <tr>\n",
       "      <th>2</th>\n",
       "      <td>3</td>\n",
       "      <td>Grumpier Old Men (1995)</td>\n",
       "      <td>Comedy|Romance</td>\n",
       "    </tr>\n",
       "    <tr>\n",
       "      <th>3</th>\n",
       "      <td>4</td>\n",
       "      <td>Waiting to Exhale (1995)</td>\n",
       "      <td>Comedy|Drama|Romance</td>\n",
       "    </tr>\n",
       "    <tr>\n",
       "      <th>4</th>\n",
       "      <td>5</td>\n",
       "      <td>Father of the Bride Part II (1995)</td>\n",
       "      <td>Comedy</td>\n",
       "    </tr>\n",
       "  </tbody>\n",
       "</table>\n",
       "</div>"
      ],
      "text/plain": [
       "   item                               title  \\\n",
       "0     1                    Toy Story (1995)   \n",
       "1     2                      Jumanji (1995)   \n",
       "2     3             Grumpier Old Men (1995)   \n",
       "3     4            Waiting to Exhale (1995)   \n",
       "4     5  Father of the Bride Part II (1995)   \n",
       "\n",
       "                                        genres  \n",
       "0  Adventure|Animation|Children|Comedy|Fantasy  \n",
       "1                   Adventure|Children|Fantasy  \n",
       "2                               Comedy|Romance  \n",
       "3                         Comedy|Drama|Romance  \n",
       "4                                       Comedy  "
      ]
     },
     "execution_count": 4,
     "metadata": {},
     "output_type": "execute_result"
    }
   ],
   "source": [
    "#ratings = pd.read_csv('/Users/denisehansen/Desktop/ITU/Thesis/Fair-Recommendations/ml-latest-small/ratings.csv', sep=',',\n",
    "#                      names=['user', 'item', 'rating', 'timestamp'], header=0)\n",
    "\n",
    "#items = pd.read_csv('/Users/denisehansen/Desktop/ITU/Thesis/Fair-Recommendations/ml-latest-small/movies.csv', sep=',',\n",
    "#                      names=['item','title','genres'], header=0)\n",
    "\n",
    "\n",
    "#ratings = pd.read_csv('/Users/josse/Git-kode projects/Speciale/Fair-Recommendations/ml-latest-small/ratings.csv', sep=',',\n",
    "#                      names=['user', 'item', 'rating', 'timestamp'], header=0)\n",
    "\n",
    "\n",
    "ratings = pd.read_csv('/Users/josse/Git-kode projects/Speciale/Fair-Recommendations/movielens100k/u.data', sep='\\s+',\n",
    "                   names=['user', 'item', 'rating', 'timestamp'], header=0)\n",
    "\n",
    "items = pd.read_csv('/Users/josse/Git-kode projects/Speciale/Fair-Recommendations/movielens100k/movies.csv', sep=',',\n",
    "                      names=['item','title','genres'], header=0)\n",
    "\n",
    "items.head()\n",
    "\n",
    "#C:\\Users\\josse\\Git-kode projects\\Speciale\\Fair-Recommendations\\ml-latest-small\\ratings.csv"
   ]
  },
  {
   "cell_type": "code",
   "execution_count": 4,
   "metadata": {},
   "outputs": [
    {
     "data": {
      "text/plain": [
       "(9125, 3)"
      ]
     },
     "execution_count": 4,
     "metadata": {},
     "output_type": "execute_result"
    }
   ],
   "source": [
    "items.shape"
   ]
  },
  {
   "cell_type": "code",
   "execution_count": 5,
   "metadata": {
    "scrolled": true
   },
   "outputs": [],
   "source": [
    "items[\"genres\"] = items.genres.str.split('|')\n",
    "#s = items.genres\n",
    "#print(s.str.len())\n",
    "#i = np.arange(len(s)).repeat(s.str.len())\n",
    "#res = items.iloc[i].assign(**{\"genres\": np.concatenate(s)})"
   ]
  },
  {
   "cell_type": "code",
   "execution_count": 7,
   "metadata": {
    "scrolled": true
   },
   "outputs": [
    {
     "data": {
      "text/html": [
       "<div>\n",
       "<style scoped>\n",
       "    .dataframe tbody tr th:only-of-type {\n",
       "        vertical-align: middle;\n",
       "    }\n",
       "\n",
       "    .dataframe tbody tr th {\n",
       "        vertical-align: top;\n",
       "    }\n",
       "\n",
       "    .dataframe thead th {\n",
       "        text-align: right;\n",
       "    }\n",
       "</style>\n",
       "<table border=\"1\" class=\"dataframe\">\n",
       "  <thead>\n",
       "    <tr style=\"text-align: right;\">\n",
       "      <th></th>\n",
       "      <th>item</th>\n",
       "      <th>title</th>\n",
       "      <th>genres</th>\n",
       "    </tr>\n",
       "  </thead>\n",
       "  <tbody>\n",
       "    <tr>\n",
       "      <th>45</th>\n",
       "      <td>47</td>\n",
       "      <td>Seven (a.k.a. Se7en) (1995)</td>\n",
       "      <td>[Mystery, Thriller]</td>\n",
       "    </tr>\n",
       "    <tr>\n",
       "      <th>46</th>\n",
       "      <td>48</td>\n",
       "      <td>Pocahontas (1995)</td>\n",
       "      <td>[Animation, Children, Drama, Musical, Romance]</td>\n",
       "    </tr>\n",
       "    <tr>\n",
       "      <th>47</th>\n",
       "      <td>49</td>\n",
       "      <td>When Night Is Falling (1995)</td>\n",
       "      <td>[Drama, Romance]</td>\n",
       "    </tr>\n",
       "    <tr>\n",
       "      <th>48</th>\n",
       "      <td>50</td>\n",
       "      <td>Usual Suspects, The (1995)</td>\n",
       "      <td>[Crime, Mystery, Thriller]</td>\n",
       "    </tr>\n",
       "    <tr>\n",
       "      <th>49</th>\n",
       "      <td>52</td>\n",
       "      <td>Mighty Aphrodite (1995)</td>\n",
       "      <td>[Comedy, Drama, Romance]</td>\n",
       "    </tr>\n",
       "    <tr>\n",
       "      <th>50</th>\n",
       "      <td>53</td>\n",
       "      <td>Lamerica (1994)</td>\n",
       "      <td>[Adventure, Drama]</td>\n",
       "    </tr>\n",
       "    <tr>\n",
       "      <th>51</th>\n",
       "      <td>54</td>\n",
       "      <td>Big Green, The (1995)</td>\n",
       "      <td>[Children, Comedy]</td>\n",
       "    </tr>\n",
       "    <tr>\n",
       "      <th>52</th>\n",
       "      <td>55</td>\n",
       "      <td>Georgia (1995)</td>\n",
       "      <td>[Drama]</td>\n",
       "    </tr>\n",
       "    <tr>\n",
       "      <th>53</th>\n",
       "      <td>57</td>\n",
       "      <td>Home for the Holidays (1995)</td>\n",
       "      <td>[Drama]</td>\n",
       "    </tr>\n",
       "    <tr>\n",
       "      <th>54</th>\n",
       "      <td>58</td>\n",
       "      <td>Postman, The (Postino, Il) (1994)</td>\n",
       "      <td>[Comedy, Drama, Romance]</td>\n",
       "    </tr>\n",
       "  </tbody>\n",
       "</table>\n",
       "</div>"
      ],
      "text/plain": [
       "    item                              title  \\\n",
       "45    47        Seven (a.k.a. Se7en) (1995)   \n",
       "46    48                  Pocahontas (1995)   \n",
       "47    49       When Night Is Falling (1995)   \n",
       "48    50         Usual Suspects, The (1995)   \n",
       "49    52            Mighty Aphrodite (1995)   \n",
       "50    53                    Lamerica (1994)   \n",
       "51    54              Big Green, The (1995)   \n",
       "52    55                     Georgia (1995)   \n",
       "53    57       Home for the Holidays (1995)   \n",
       "54    58  Postman, The (Postino, Il) (1994)   \n",
       "\n",
       "                                            genres  \n",
       "45                             [Mystery, Thriller]  \n",
       "46  [Animation, Children, Drama, Musical, Romance]  \n",
       "47                                [Drama, Romance]  \n",
       "48                      [Crime, Mystery, Thriller]  \n",
       "49                        [Comedy, Drama, Romance]  \n",
       "50                              [Adventure, Drama]  \n",
       "51                              [Children, Comedy]  \n",
       "52                                         [Drama]  \n",
       "53                                         [Drama]  \n",
       "54                        [Comedy, Drama, Romance]  "
      ]
     },
     "execution_count": 7,
     "metadata": {},
     "output_type": "execute_result"
    }
   ],
   "source": [
    "items.iloc[45:55,:]\n",
    "#res.info()"
   ]
  },
  {
   "cell_type": "code",
   "execution_count": 7,
   "metadata": {},
   "outputs": [],
   "source": [
    "#print(res[\"item\"].nunique())"
   ]
  },
  {
   "cell_type": "code",
   "execution_count": 14,
   "metadata": {},
   "outputs": [
    {
     "name": "stdout",
     "output_type": "stream",
     "text": [
      "<class 'pandas.core.frame.DataFrame'>\n",
      "RangeIndex: 1337 entries, 0 to 1336\n",
      "Data columns (total 4 columns):\n",
      "index     1337 non-null int64\n",
      "item      1337 non-null int64\n",
      "title     1337 non-null object\n",
      "genres    1337 non-null object\n",
      "dtypes: int64(2), object(2)\n",
      "memory usage: 41.9+ KB\n"
     ]
    }
   ],
   "source": [
    "rateditems = ratings.item.unique()\n",
    "rateditems = pd.DataFrame(rateditems, columns =['item'])\n",
    "rateditems = rateditems.join(items.set_index('item'), on='item', how = \"left\")\n",
    "rateditems = rateditems.dropna().reset_index()\n",
    "rateditems.head()\n",
    "rateditems.info()"
   ]
  },
  {
   "cell_type": "code",
   "execution_count": 15,
   "metadata": {},
   "outputs": [
    {
     "data": {
      "text/plain": [
       "(1337, 4)"
      ]
     },
     "execution_count": 15,
     "metadata": {},
     "output_type": "execute_result"
    }
   ],
   "source": [
    "rateditems.shape"
   ]
  },
  {
   "cell_type": "code",
   "execution_count": 9,
   "metadata": {},
   "outputs": [],
   "source": [
    "#\"explode\" the ratedItems dataset on genre. such that each entry contains only one genre.\n",
    "#user1, movie 1 drama\n",
    "#user 1 movie 1 action ect. \n",
    "#rateditems[\"genres\"] = rateditems.genres.str.split('|')\n",
    "s = rateditems.genres\n",
    "s\n",
    "i = np.arange(len(s)).repeat(s.str.len())\n",
    "rateditemsExploded = rateditems.iloc[i].assign(**{\"genres\": np.concatenate(s)})"
   ]
  },
  {
   "cell_type": "code",
   "execution_count": 10,
   "metadata": {},
   "outputs": [
    {
     "data": {
      "text/plain": [
       "<matplotlib.axes._subplots.AxesSubplot at 0x1fecfe91c88>"
      ]
     },
     "execution_count": 10,
     "metadata": {},
     "output_type": "execute_result"
    },
    {
     "data": {
      "image/png": "[encoded data removed]",
      "text/plain": [
       "<Figure size 432x288 with 1 Axes>"
      ]
     },
     "metadata": {
      "needs_background": "light"
     },
     "output_type": "display_data"
    }
   ],
   "source": [
    "rateditemsExploded.groupby('genres').item.count().plot.bar()"
   ]
  },
  {
   "cell_type": "code",
   "execution_count": 11,
   "metadata": {},
   "outputs": [
    {
     "data": {
      "image/png": "[encoded data removed]",
      "text/plain": [
       "<Figure size 432x288 with 1 Axes>"
      ]
     },
     "metadata": {
      "needs_background": "light"
     },
     "output_type": "display_data"
    }
   ],
   "source": [
    "# Plot simple scatter of the number of movies tagged with each genre\n",
    "plt.figure(figsize=(6,4))\n",
    "barlist = rateditemsExploded.groupby('genres').item.count().plot.bar()\n",
    "barlist.patches[0].set_color('b') # Color 'All_movies' differently, as it's not a genre tag count\n",
    "plt.xticks(rotation='vertical')\n",
    "plt.title('Movies per genre tag')\n",
    "plt.xlabel('Genre')\n",
    "plt.ylabel('Number of movies tagged')\n",
    "plt.savefig('rateditems.png', bbox_inches = \"tight\")\n",
    "#plt.savefig('myfile.png')\n",
    "plt.show()"
   ]
  },
  {
   "cell_type": "code",
   "execution_count": null,
   "metadata": {},
   "outputs": [],
   "source": [
    "\n"
   ]
  },
  {
   "cell_type": "code",
   "execution_count": 12,
   "metadata": {},
   "outputs": [
    {
     "name": "stdout",
     "output_type": "stream",
     "text": [
      "1682\n"
     ]
    }
   ],
   "source": [
    "joined = ratings.join(items.set_index('item'), on='item')\n",
    "joined= joined.drop('timestamp', axis=1)\n",
    "joined= joined.drop('title', axis=1)\n",
    "joined[\"rating\"] = joined[\"rating\"].astype(float)\n",
    "#data_df['grade'] = data_df['grade'].astype(int)\n",
    "print(joined.item.nunique())\n",
    "joined = joined.dropna().reset_index()"
   ]
  },
  {
   "cell_type": "code",
   "execution_count": 13,
   "metadata": {},
   "outputs": [
    {
     "name": "stdout",
     "output_type": "stream",
     "text": [
      "1337\n",
      "943\n"
     ]
    }
   ],
   "source": [
    "print(joined.item.nunique()) \n",
    "print(ratings.user.nunique()) "
   ]
  },
  {
   "cell_type": "code",
   "execution_count": 14,
   "metadata": {},
   "outputs": [
    {
     "name": "stdout",
     "output_type": "stream",
     "text": [
      "[    0     0     1 ... 84203 84203 84204]\n"
     ]
    }
   ],
   "source": [
    "#\"explode\" the joined dataset on genre. such that each entry contains only one genre.\n",
    "#user1, movie 1 drama\n",
    "#user 1 movie 1 action ect. \n",
    "\n",
    "s = joined.genres\n",
    "i = np.arange(len(s)).repeat(s.str.len())\n",
    "print(i)\n",
    "joined = joined.iloc[i].assign(**{\"genres\": np.concatenate(s)})"
   ]
  },
  {
   "cell_type": "code",
   "execution_count": null,
   "metadata": {},
   "outputs": [],
   "source": []
  },
  {
   "cell_type": "code",
   "execution_count": 15,
   "metadata": {
    "scrolled": true
   },
   "outputs": [
    {
     "data": {
      "image/png": "[encoded data removed]",
      "text/plain": [
       "<Figure size 432x288 with 1 Axes>"
      ]
     },
     "metadata": {
      "needs_background": "light"
     },
     "output_type": "display_data"
    },
    {
     "data": {
      "text/plain": [
       "<matplotlib.axes._subplots.AxesSubplot at 0x1fed17bc358>"
      ]
     },
     "execution_count": 15,
     "metadata": {},
     "output_type": "execute_result"
    },
    {
     "data": {
      "image/png": "[encoded data removed]",
      "text/plain": [
       "<Figure size 432x288 with 1 Axes>"
      ]
     },
     "metadata": {
      "needs_background": "light"
     },
     "output_type": "display_data"
    }
   ],
   "source": [
    "# Plot simple scatter of the number of ratings of movies accross each genre\n",
    "plt.figure(figsize=(6,4))\n",
    "barlist = joined.groupby('genres').item.count().plot.bar()\n",
    "barlist.patches[0].set_color('b') # Color 'All_movies' differently, as it's not a genre tag count\n",
    "plt.xticks(rotation='vertical')\n",
    "plt.title('ratings per genre tag')\n",
    "plt.xlabel('Genre')\n",
    "plt.ylabel('Number of ratings')\n",
    "plt.savefig('ratings.png', bbox_inches = \"tight\")\n",
    "#plt.savefig('myfile.png')\n",
    "plt.show()\n",
    "\n",
    "joined.groupby('genres').item.count().plot.bar()"
   ]
  },
  {
   "cell_type": "code",
   "execution_count": 16,
   "metadata": {},
   "outputs": [
    {
     "data": {
      "text/plain": [
       "genres\n",
       "Action         66.666667\n",
       "Adventure      60.212500\n",
       "Animation      68.380952\n",
       "Children       71.800000\n",
       "Comedy         67.373913\n",
       "Crime          61.906250\n",
       "Documentary    48.088235\n",
       "Drama          61.548726\n",
       "Fantasy        66.914634\n",
       "Film-Noir      32.307692\n",
       "Horror         48.967391\n",
       "IMAX           66.500000\n",
       "Musical        42.524590\n",
       "Mystery        53.692308\n",
       "Romance        68.669118\n",
       "Sci-Fi         58.760417\n",
       "Thriller       66.072519\n",
       "War            49.913793\n",
       "Western        38.071429\n",
       "Name: item, dtype: float64"
      ]
     },
     "execution_count": 16,
     "metadata": {},
     "output_type": "execute_result"
    }
   ],
   "source": [
    "#average ratings pr movie in each genre \n",
    "x = rateditemsExploded.groupby('genres').item.count()\n",
    "y = joined.groupby('genres').item.count()\n",
    "z = y/x\n",
    "z"
   ]
  },
  {
   "cell_type": "code",
   "execution_count": null,
   "metadata": {},
   "outputs": [],
   "source": []
  },
  {
   "cell_type": "code",
   "execution_count": 17,
   "metadata": {},
   "outputs": [
    {
     "data": {
      "text/plain": [
       "41053"
      ]
     },
     "execution_count": 17,
     "metadata": {},
     "output_type": "execute_result"
    }
   ],
   "source": [
    "#hvor mange gange er en drama film er blevet rated\n",
    "res2 = joined[joined[\"genres\"] == \"Drama\"]\n",
    "res2[\"item\"].count()"
   ]
  },
  {
   "cell_type": "code",
   "execution_count": 19,
   "metadata": {},
   "outputs": [
    {
     "data": {
      "image/png": "[encoded data removed]",
      "text/plain": [
       "<Figure size 432x288 with 1 Axes>"
      ]
     },
     "metadata": {
      "needs_background": "light"
     },
     "output_type": "display_data"
    }
   ],
   "source": [
    "# Plot simple scatter of the number of ratings of movies accross each genre\n",
    "#print( res4.mean())\n",
    "plt.figure(figsize=(6,4))\n",
    "barlist = joined.groupby('genres').rating.mean().plot.bar()\n",
    "barlist.patches[0].set_color('b') # Color 'All_movies' differently, as it's not a genre tag count\n",
    "#plt.axhline(y=mean)\n",
    "plt.ylim(bottom=3) \n",
    "#plt.mean_line = ax.plot(x,y_mean, label='Mean', linestyle='--')\n",
    "plt.xticks(rotation='vertical')\n",
    "plt.title('Average rating across genre')\n",
    "plt.xlabel('Genre')\n",
    "plt.ylabel('Average rating')\n",
    "plt.savefig('average_rating.png', bbox_inches = \"tight\")\n",
    "#plt.savefig('myfile.png')\n",
    "plt.show()"
   ]
  },
  {
   "cell_type": "code",
   "execution_count": 20,
   "metadata": {},
   "outputs": [
    {
     "data": {
      "text/plain": [
       "<matplotlib.axes._subplots.AxesSubplot at 0x1fed1f8b6a0>"
      ]
     },
     "execution_count": 20,
     "metadata": {},
     "output_type": "execute_result"
    },
    {
     "data": {
      "image/png": "[encoded data removed]",
      "text/plain": [
       "<Figure size 432x288 with 1 Axes>"
      ]
     },
     "metadata": {
      "needs_background": "light"
     },
     "output_type": "display_data"
    }
   ],
   "source": [
    "joined.groupby('genres').rating.mean().plot.bar()"
   ]
  },
  {
   "cell_type": "code",
   "execution_count": 21,
   "metadata": {},
   "outputs": [
    {
     "data": {
      "text/plain": [
       "genres\n",
       "Action         3.634110\n",
       "Adventure      3.525016\n",
       "Animation      3.614554\n",
       "Children       3.524373\n",
       "Comedy         3.531815\n",
       "Crime          3.603635\n",
       "Documentary    3.456881\n",
       "Drama          3.509877\n",
       "Fantasy        3.470020\n",
       "Film-Noir      3.335714\n",
       "Horror         3.630633\n",
       "IMAX           3.443609\n",
       "Musical        3.488435\n",
       "Mystery        3.631805\n",
       "Romance        3.550166\n",
       "Sci-Fi         3.535543\n",
       "Thriller       3.594940\n",
       "War            3.373402\n",
       "Western        3.290807\n",
       "Name: rating, dtype: float64"
      ]
     },
     "execution_count": 21,
     "metadata": {},
     "output_type": "execute_result"
    }
   ],
   "source": [
    "res4= joined.groupby('genres').rating.mean()\n",
    "res4"
   ]
  },
  {
   "cell_type": "code",
   "execution_count": null,
   "metadata": {},
   "outputs": [],
   "source": [
    "def app_total_count_ratings(s):\n",
    "    res2 = res1[res1[\"genres\"] == s]\n",
    "    return res2[\"item\"].count()\n",
    "\n",
    "def app_distinct_count_ratings(s):\n",
    "    res2 = res1[res1[\"genres\"] == s ]\n",
    "    return res2[\"item\"].nunique()\n",
    "\n"
   ]
  },
  {
   "cell_type": "code",
   "execution_count": 22,
   "metadata": {},
   "outputs": [],
   "source": [
    "def app_movies_procent(s):\n",
    "    return s/1300"
   ]
  },
  {
   "cell_type": "code",
   "execution_count": 32,
   "metadata": {},
   "outputs": [
    {
     "data": {
      "text/html": [
       "<div>\n",
       "<style scoped>\n",
       "    .dataframe tbody tr th:only-of-type {\n",
       "        vertical-align: middle;\n",
       "    }\n",
       "\n",
       "    .dataframe tbody tr th {\n",
       "        vertical-align: top;\n",
       "    }\n",
       "\n",
       "    .dataframe thead th {\n",
       "        text-align: right;\n",
       "    }\n",
       "</style>\n",
       "<table border=\"1\" class=\"dataframe\">\n",
       "  <thead>\n",
       "    <tr style=\"text-align: right;\">\n",
       "      <th></th>\n",
       "      <th>item</th>\n",
       "      <th>item_in_procents</th>\n",
       "    </tr>\n",
       "    <tr>\n",
       "      <th>genres</th>\n",
       "      <th></th>\n",
       "      <th></th>\n",
       "    </tr>\n",
       "  </thead>\n",
       "  <tbody>\n",
       "    <tr>\n",
       "      <th>Action</th>\n",
       "      <td>219</td>\n",
       "      <td>16.379955</td>\n",
       "    </tr>\n",
       "    <tr>\n",
       "      <th>Adventure</th>\n",
       "      <td>160</td>\n",
       "      <td>11.967091</td>\n",
       "    </tr>\n",
       "    <tr>\n",
       "      <th>Animation</th>\n",
       "      <td>42</td>\n",
       "      <td>3.141361</td>\n",
       "    </tr>\n",
       "    <tr>\n",
       "      <th>Children</th>\n",
       "      <td>120</td>\n",
       "      <td>8.975318</td>\n",
       "    </tr>\n",
       "    <tr>\n",
       "      <th>Comedy</th>\n",
       "      <td>460</td>\n",
       "      <td>34.405385</td>\n",
       "    </tr>\n",
       "    <tr>\n",
       "      <th>Crime</th>\n",
       "      <td>160</td>\n",
       "      <td>11.967091</td>\n",
       "    </tr>\n",
       "    <tr>\n",
       "      <th>Documentary</th>\n",
       "      <td>34</td>\n",
       "      <td>2.543007</td>\n",
       "    </tr>\n",
       "    <tr>\n",
       "      <th>Drama</th>\n",
       "      <td>667</td>\n",
       "      <td>49.887809</td>\n",
       "    </tr>\n",
       "    <tr>\n",
       "      <th>Fantasy</th>\n",
       "      <td>82</td>\n",
       "      <td>6.133134</td>\n",
       "    </tr>\n",
       "    <tr>\n",
       "      <th>Film-Noir</th>\n",
       "      <td>26</td>\n",
       "      <td>1.944652</td>\n",
       "    </tr>\n",
       "    <tr>\n",
       "      <th>Horror</th>\n",
       "      <td>92</td>\n",
       "      <td>6.881077</td>\n",
       "    </tr>\n",
       "    <tr>\n",
       "      <th>IMAX</th>\n",
       "      <td>4</td>\n",
       "      <td>0.299177</td>\n",
       "    </tr>\n",
       "    <tr>\n",
       "      <th>Musical</th>\n",
       "      <td>61</td>\n",
       "      <td>4.562453</td>\n",
       "    </tr>\n",
       "    <tr>\n",
       "      <th>Mystery</th>\n",
       "      <td>78</td>\n",
       "      <td>5.833957</td>\n",
       "    </tr>\n",
       "    <tr>\n",
       "      <th>Romance</th>\n",
       "      <td>272</td>\n",
       "      <td>20.344054</td>\n",
       "    </tr>\n",
       "    <tr>\n",
       "      <th>Sci-Fi</th>\n",
       "      <td>96</td>\n",
       "      <td>7.180254</td>\n",
       "    </tr>\n",
       "    <tr>\n",
       "      <th>Thriller</th>\n",
       "      <td>262</td>\n",
       "      <td>19.596111</td>\n",
       "    </tr>\n",
       "    <tr>\n",
       "      <th>War</th>\n",
       "      <td>58</td>\n",
       "      <td>4.338070</td>\n",
       "    </tr>\n",
       "    <tr>\n",
       "      <th>Western</th>\n",
       "      <td>28</td>\n",
       "      <td>2.094241</td>\n",
       "    </tr>\n",
       "  </tbody>\n",
       "</table>\n",
       "</div>"
      ],
      "text/plain": [
       "             item  item_in_procents\n",
       "genres                             \n",
       "Action        219         16.379955\n",
       "Adventure     160         11.967091\n",
       "Animation      42          3.141361\n",
       "Children      120          8.975318\n",
       "Comedy        460         34.405385\n",
       "Crime         160         11.967091\n",
       "Documentary    34          2.543007\n",
       "Drama         667         49.887809\n",
       "Fantasy        82          6.133134\n",
       "Film-Noir      26          1.944652\n",
       "Horror         92          6.881077\n",
       "IMAX            4          0.299177\n",
       "Musical        61          4.562453\n",
       "Mystery        78          5.833957\n",
       "Romance       272         20.344054\n",
       "Sci-Fi         96          7.180254\n",
       "Thriller      262         19.596111\n",
       "War            58          4.338070\n",
       "Western        28          2.094241"
      ]
     },
     "execution_count": 32,
     "metadata": {},
     "output_type": "execute_result"
    }
   ],
   "source": [
    "#'total_count_ratings', 'distinct_count_ratings', 'coverage']\n",
    "#total_count_movies  = number of distinct movies in each genre\n",
    "#total_count_ratings = number of times a movie with the given genres has been rated\n",
    "#distinct_count_rating =number of diferent items in each gerne that have been rated. \n",
    "#coverage = the precentage of movies in each genre that have been rated at least once (total_count_movies/distinct_count_rating)\n",
    "\n",
    "index = range(19)\n",
    "index\n",
    "ressult =rateditemsExploded.groupby('genres').item.count()\n",
    "genre_stats = pd.DataFrame(ressult)\n",
    "\n",
    "#genre_stats['total_count_ratings'] = genre_stats['genres'].apply(app_total_count_ratings)\n",
    "#genre_stats['distinct_count_rating'] = genre_stats['genres'].apply(app_distinct_count_ratings)\n",
    "#genre_stats['coverage'] = genre_stats['distinct_count_rating']/genre_stats['total_count_movies']*100\n",
    "genre_stats.reset_index()\n",
    "\n",
    "#total_count_movies  = number of distinct movies in each genre\n",
    "#total_count_ratings = number of times a movie with the given genres has been rated\n",
    "#distinct_count_rating =number of diferent items in each gerne that have been rated. \n",
    "#coverage = the precentage of movies in each genre that have been rated at least once (total_count_movies/distinct_count_rating)\n",
    "\n",
    "index = range(19)\n",
    "index\n",
    "ressult =rateditemsExploded.groupby('genres').item.count()\n",
    "genre_stats = pd.DataFrame(ressult)\n",
    "\n",
    "#genre_stats['total_count_ratings'] = genre_stats['genres'].apply(app_total_count_ratings)\n",
    "#genre_stats['distinct_count_rating'] = genre_stats['genres'].apply(app_distinct_count_ratings)\n",
    "#genre_stats['coverage'] = genre_stats['distinct_count_rating']/genre_stats['total_count_movies']*100\n",
    "genre_stats.reset_index()\n",
    "\n",
    "genre_stats['item_in_procents'] = genre_stats[\"item\"] / 1337 *100\n",
    "\n",
    "genre_stats\n",
    "\n"
   ]
  },
  {
   "cell_type": "code",
   "execution_count": null,
   "metadata": {},
   "outputs": [],
   "source": [
    "\n"
   ]
  },
  {
   "cell_type": "code",
   "execution_count": 47,
   "metadata": {},
   "outputs": [
    {
     "data": {
      "text/plain": [
       "<matplotlib.axes._subplots.AxesSubplot at 0x1fed39f4710>"
      ]
     },
     "execution_count": 47,
     "metadata": {},
     "output_type": "execute_result"
    },
    {
     "data": {
      "image/png": "[encoded data removed]",
      "text/plain": [
       "<Figure size 432x288 with 1 Axes>"
      ]
     },
     "metadata": {
      "needs_background": "light"
     },
     "output_type": "display_data"
    }
   ],
   "source": [
    "freq = joined.groupby('item').rating.count()\n",
    "freq.collumns = \"item\",\"hej\"\n",
    "freq.sort_values(ascending=False).plot.bar()"
   ]
  },
  {
   "cell_type": "code",
   "execution_count": 48,
   "metadata": {},
   "outputs": [
    {
     "data": {
      "image/png": "[encoded data removed]",
      "text/plain": [
       "<Figure size 1440x288 with 1 Axes>"
      ]
     },
     "metadata": {
      "needs_background": "light"
     },
     "output_type": "display_data"
    }
   ],
   "source": [
    "plt.figure(figsize=(20,4))\n",
    "barlist = freq.sort_values(ascending=False).plot.bar()\n",
    "barlist.patches[0].set_color('b') # Color 'All_movies' differently, as it's not a genre tag count\n",
    "#plt.axhline(y=mean)\n",
    "#plt.ylim(bottom=3) \n",
    "#plt.mean_line = ax.plot(x,y_mean, label='Mean', linestyle='--')\n",
    "plt.xticks(rotation='vertical')\n",
    "#plt.title('Average rating across genre')\n",
    "plt.xlabel('item')\n",
    "plt.ylabel('freq')\n",
    "plt.savefig('average_rating.png', bbox_inches = \"tight\")\n",
    "#plt.savefig('myfile.png')\n",
    "plt.show()"
   ]
  },
  {
   "cell_type": "code",
   "execution_count": null,
   "metadata": {},
   "outputs": [],
   "source": []
  }
 ],
 "metadata": {
  "kernelspec": {
   "display_name": "Python 3",
   "language": "python",
   "name": "python3"
  },
  "language_info": {
   "codemirror_mode": {
    "name": "ipython",
    "version": 3
   },
   "file_extension": ".py",
   "mimetype": "text/x-python",
   "name": "python",
   "nbconvert_exporter": "python",
   "pygments_lexer": "ipython3",
   "version": "3.7.1"
  }
 },
 "nbformat": 4,
 "nbformat_minor": 2
}
