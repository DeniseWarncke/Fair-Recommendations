{
 "cells": [
  {
   "cell_type": "code",
   "execution_count": 1,
   "metadata": {},
   "outputs": [],
   "source": [
    "import os,sys,inspect\n",
    "currentdir = os.path.dirname(os.path.abspath(inspect.getfile(inspect.currentframe())))\n",
    "parentdir = os.path.dirname(currentdir)\n",
    "# Add parent dir to path, so that python finds the lenskit package\n",
    "sys.path.insert(0,parentdir) "
   ]
  },
  {
   "cell_type": "code",
   "execution_count": 2,
   "metadata": {},
   "outputs": [],
   "source": [
    "from lenskit.metrics import dataGenerator\n",
    "from lenskit import batch, topn, util, topnFair\n",
    "from lenskit import crossfold as xf\n",
    "from lenskit.algorithms import Recommender, als, funksvd, user_knn as uknn, item_knn as iknn \n",
    "from lenskit import topn, topnFair"
   ]
  },
  {
   "cell_type": "code",
   "execution_count": 3,
   "metadata": {},
   "outputs": [],
   "source": [
    "import numpy as np\n",
    "import pandas as pd\n",
    "import math\n",
    "import pickle\n",
    "%matplotlib inline"
   ]
  },
  {
   "cell_type": "code",
   "execution_count": 4,
   "metadata": {},
   "outputs": [],
   "source": [
    "test_data = pd.read_pickle(\"test_data_Lenskit2\")\n",
    "all_recs_joined = pd.read_pickle(\"all_recs_joined_Lenskit2\")"
   ]
  },
  {
   "cell_type": "code",
   "execution_count": 5,
   "metadata": {},
   "outputs": [],
   "source": [
    "def evaluate_genre(genre): \n",
    "    \n",
    "    providers = list(all_recs_joined.iloc[:,8:])\n",
    "    proItems_genre_n =  all_recs_joined.loc[ all_recs_joined[genre] == 1].item.nunique()\n",
    "    print (genre)\n",
    "    rla = topnFair.FairRecListAnalysis(['user', \"Algorithm\"])\n",
    "    rla.add_metric(\"rND\")\n",
    "    rla.add_metric(\"rKL\")\n",
    "    rla.add_metric(\"rRD\")\n",
    "    rla.add_metric(\"APCR\")\n",
    "    rla.add_metric(\"nd_APCR\")\n",
    "    rla.add_metric(\"equal_ex\")\n",
    "    rla.add_metric(\"ndcg\")\n",
    "    results= rla.compute(all_recs_joined, test_data, genre, providers)\n",
    "    #results_horror.groupby('Algorithm').mean()\n",
    "    print(\"done\" , genre)\n",
    "    return results.groupby('Algorithm').mean()"
   ]
  },
  {
   "cell_type": "code",
   "execution_count": 6,
   "metadata": {},
   "outputs": [
    {
     "name": "stdout",
     "output_type": "stream",
     "text": [
      "Drama\n"
     ]
    },
    {
     "name": "stderr",
     "output_type": "stream",
     "text": [
      "/anaconda3/lib/python3.7/site-packages/pandas/core/indexing.py:1472: PerformanceWarning: indexing past lexsort depth may impact performance.\n",
      "  return self._getitem_tuple(key)\n"
     ]
    },
    {
     "name": "stdout",
     "output_type": "stream",
     "text": [
      "done Drama\n",
      "Action\n",
      "done Action\n"
     ]
    }
   ],
   "source": [
    "testproviders = [\"Drama\", \"Action\"]\n",
    "#testproviders = list(all_recs_joined.iloc[:,8:])\n",
    "allResults = []\n",
    "for genre in testproviders:\n",
    "    rep = evaluate_genre(genre)\n",
    "    allResults.append(rep)    "
   ]
  },
  {
   "cell_type": "code",
   "execution_count": 8,
   "metadata": {},
   "outputs": [
    {
     "data": {
      "text/html": [
       "<div>\n",
       "<style scoped>\n",
       "    .dataframe tbody tr th:only-of-type {\n",
       "        vertical-align: middle;\n",
       "    }\n",
       "\n",
       "    .dataframe tbody tr th {\n",
       "        vertical-align: top;\n",
       "    }\n",
       "\n",
       "    .dataframe thead th {\n",
       "        text-align: right;\n",
       "    }\n",
       "</style>\n",
       "<table border=\"1\" class=\"dataframe\">\n",
       "  <thead>\n",
       "    <tr style=\"text-align: right;\">\n",
       "      <th></th>\n",
       "      <th></th>\n",
       "      <th>rND</th>\n",
       "      <th>rKL</th>\n",
       "      <th>rRD</th>\n",
       "      <th>APCR</th>\n",
       "      <th>nd_APCR</th>\n",
       "      <th>equal_ex</th>\n",
       "      <th>ndcg</th>\n",
       "    </tr>\n",
       "    <tr>\n",
       "      <th></th>\n",
       "      <th>Algorithm</th>\n",
       "      <th></th>\n",
       "      <th></th>\n",
       "      <th></th>\n",
       "      <th></th>\n",
       "      <th></th>\n",
       "      <th></th>\n",
       "      <th></th>\n",
       "    </tr>\n",
       "  </thead>\n",
       "  <tbody>\n",
       "    <tr>\n",
       "      <th rowspan=\"4\" valign=\"top\">Drama</th>\n",
       "      <th>ALS</th>\n",
       "      <td>0.083380</td>\n",
       "      <td>0.013984</td>\n",
       "      <td>0.042242</td>\n",
       "      <td>0.983647</td>\n",
       "      <td>0.890658</td>\n",
       "      <td>1.029319</td>\n",
       "      <td>0.223507</td>\n",
       "    </tr>\n",
       "    <tr>\n",
       "      <th>FunkSVD</th>\n",
       "      <td>0.066989</td>\n",
       "      <td>0.008333</td>\n",
       "      <td>0.031939</td>\n",
       "      <td>0.990847</td>\n",
       "      <td>0.888038</td>\n",
       "      <td>1.043871</td>\n",
       "      <td>0.159965</td>\n",
       "    </tr>\n",
       "    <tr>\n",
       "      <th>ItemItem</th>\n",
       "      <td>0.082374</td>\n",
       "      <td>0.012988</td>\n",
       "      <td>0.047054</td>\n",
       "      <td>0.985265</td>\n",
       "      <td>0.896410</td>\n",
       "      <td>1.014131</td>\n",
       "      <td>0.197654</td>\n",
       "    </tr>\n",
       "    <tr>\n",
       "      <th>UserUser</th>\n",
       "      <td>0.080723</td>\n",
       "      <td>0.014304</td>\n",
       "      <td>0.108482</td>\n",
       "      <td>0.978903</td>\n",
       "      <td>0.886109</td>\n",
       "      <td>0.973930</td>\n",
       "      <td>0.160600</td>\n",
       "    </tr>\n",
       "    <tr>\n",
       "      <th rowspan=\"4\" valign=\"top\">Action</th>\n",
       "      <th>ALS</th>\n",
       "      <td>0.081128</td>\n",
       "      <td>0.013418</td>\n",
       "      <td>0.047109</td>\n",
       "      <td>0.983647</td>\n",
       "      <td>0.890658</td>\n",
       "      <td>1.015144</td>\n",
       "      <td>0.223507</td>\n",
       "    </tr>\n",
       "    <tr>\n",
       "      <th>FunkSVD</th>\n",
       "      <td>0.086451</td>\n",
       "      <td>0.019700</td>\n",
       "      <td>0.085875</td>\n",
       "      <td>0.990847</td>\n",
       "      <td>0.888038</td>\n",
       "      <td>0.981281</td>\n",
       "      <td>0.159965</td>\n",
       "    </tr>\n",
       "    <tr>\n",
       "      <th>ItemItem</th>\n",
       "      <td>0.073721</td>\n",
       "      <td>0.013510</td>\n",
       "      <td>0.075166</td>\n",
       "      <td>0.985265</td>\n",
       "      <td>0.896410</td>\n",
       "      <td>0.989026</td>\n",
       "      <td>0.197654</td>\n",
       "    </tr>\n",
       "    <tr>\n",
       "      <th>UserUser</th>\n",
       "      <td>0.067168</td>\n",
       "      <td>0.011331</td>\n",
       "      <td>0.119873</td>\n",
       "      <td>0.978903</td>\n",
       "      <td>0.886109</td>\n",
       "      <td>0.967057</td>\n",
       "      <td>0.160600</td>\n",
       "    </tr>\n",
       "  </tbody>\n",
       "</table>\n",
       "</div>"
      ],
      "text/plain": [
       "                       rND       rKL       rRD      APCR   nd_APCR  equal_ex  \\\n",
       "       Algorithm                                                               \n",
       "Drama  ALS        0.083380  0.013984  0.042242  0.983647  0.890658  1.029319   \n",
       "       FunkSVD    0.066989  0.008333  0.031939  0.990847  0.888038  1.043871   \n",
       "       ItemItem   0.082374  0.012988  0.047054  0.985265  0.896410  1.014131   \n",
       "       UserUser   0.080723  0.014304  0.108482  0.978903  0.886109  0.973930   \n",
       "Action ALS        0.081128  0.013418  0.047109  0.983647  0.890658  1.015144   \n",
       "       FunkSVD    0.086451  0.019700  0.085875  0.990847  0.888038  0.981281   \n",
       "       ItemItem   0.073721  0.013510  0.075166  0.985265  0.896410  0.989026   \n",
       "       UserUser   0.067168  0.011331  0.119873  0.978903  0.886109  0.967057   \n",
       "\n",
       "                      ndcg  \n",
       "       Algorithm            \n",
       "Drama  ALS        0.223507  \n",
       "       FunkSVD    0.159965  \n",
       "       ItemItem   0.197654  \n",
       "       UserUser   0.160600  \n",
       "Action ALS        0.223507  \n",
       "       FunkSVD    0.159965  \n",
       "       ItemItem   0.197654  \n",
       "       UserUser   0.160600  "
      ]
     },
     "execution_count": 8,
     "metadata": {},
     "output_type": "execute_result"
    }
   ],
   "source": [
    "output = pd.concat(allResults, keys=testproviders)\n",
    "output"
   ]
  },
  {
   "cell_type": "code",
   "execution_count": null,
   "metadata": {},
   "outputs": [],
   "source": []
  }
 ],
 "metadata": {
  "kernelspec": {
   "display_name": "Python 3",
   "language": "python",
   "name": "python3"
  },
  "language_info": {
   "codemirror_mode": {
    "name": "ipython",
    "version": 3
   },
   "file_extension": ".py",
   "mimetype": "text/x-python",
   "name": "python",
   "nbconvert_exporter": "python",
   "pygments_lexer": "ipython3",
   "version": "3.7.1"
  }
 },
 "nbformat": 4,
 "nbformat_minor": 2
}
