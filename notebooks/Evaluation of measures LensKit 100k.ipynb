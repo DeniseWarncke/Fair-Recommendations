{
 "cells": [
  {
   "cell_type": "code",
   "execution_count": 1,
   "metadata": {},
   "outputs": [],
   "source": [
    "import os,sys,inspect\n",
    "currentdir = os.path.dirname(os.path.abspath(inspect.getfile(inspect.currentframe())))\n",
    "parentdir = os.path.dirname(currentdir)\n",
    "# Add parent dir to path, so that python finds the lenskit package\n",
    "sys.path.insert(0,parentdir) "
   ]
  },
  {
   "cell_type": "code",
   "execution_count": 2,
   "metadata": {},
   "outputs": [],
   "source": [
    "from lenskit.metrics import dataGenerator\n",
    "from lenskit import batch, topn, util, topnFair\n",
    "from lenskit import crossfold as xf\n",
    "from lenskit.algorithms import Recommender, als, funksvd, user_knn as uknn, item_knn as iknn \n",
    "from lenskit import topn, topnFair"
   ]
  },
  {
   "cell_type": "code",
   "execution_count": 3,
   "metadata": {},
   "outputs": [],
   "source": [
    "import numpy as np\n",
    "import pandas as pd\n",
    "import math\n",
    "import pickle\n",
    "%matplotlib inline"
   ]
  },
  {
   "cell_type": "code",
   "execution_count": 4,
   "metadata": {},
   "outputs": [],
   "source": [
    "test_data = pd.read_pickle(\"test_data_Lenskit100k\")\n",
    "all_recs_joined = pd.read_pickle(\"all_recs_joined_Lenskit100k\")"
   ]
  },
  {
   "cell_type": "code",
   "execution_count": 5,
   "metadata": {},
   "outputs": [],
   "source": [
    "def evaluate_genre(genre): \n",
    "    \n",
    "    providers = list(all_recs_joined.iloc[:,8:])\n",
    "    proItems_genre_n =  all_recs_joined.loc[ all_recs_joined[genre] == 1].item.nunique()\n",
    "    print (genre)\n",
    "    rla = topnFair.FairRecListAnalysis(['user', \"Algorithm\"])\n",
    "    rla.add_metric(\"rND\")\n",
    "    rla.add_metric(\"rKL\")\n",
    "    rla.add_metric(\"rRD\")\n",
    "    rla.add_metric(\"APCR\")\n",
    "    rla.add_metric(\"nd_APCR\")\n",
    "    rla.add_metric(\"equal_ex\")\n",
    "    rla.add_metric(\"ndcg\")\n",
    "    results= rla.compute(all_recs_joined, test_data, genre, providers)\n",
    "    #results_horror.groupby('Algorithm').mean()\n",
    "    print(\"done\" , genre)\n",
    "    return results.groupby('Algorithm').mean()"
   ]
  },
  {
   "cell_type": "code",
   "execution_count": 6,
   "metadata": {},
   "outputs": [
    {
     "name": "stdout",
     "output_type": "stream",
     "text": [
      "Drama\n"
     ]
    },
    {
     "name": "stderr",
     "output_type": "stream",
     "text": [
      "C:\\Users\\josse\\Anaconda3\\lib\\site-packages\\pandas\\core\\indexing.py:1472: PerformanceWarning: indexing past lexsort depth may impact performance.\n",
      "  return self._getitem_tuple(key)\n"
     ]
    },
    {
     "name": "stdout",
     "output_type": "stream",
     "text": [
      "done Drama\n",
      "Action\n",
      "done Action\n"
     ]
    }
   ],
   "source": [
    "testproviders = [\"Drama\", \"Action\"]\n",
    "#testproviders = list(all_recs_joined.iloc[:,8:])\n",
    "allResults = []\n",
    "for genre in testproviders:\n",
    "    rep = evaluate_genre(genre)\n",
    "    allResults.append(rep)    "
   ]
  },
  {
   "cell_type": "code",
   "execution_count": 7,
   "metadata": {},
   "outputs": [
    {
     "data": {
      "text/html": [
       "<div>\n",
       "<style scoped>\n",
       "    .dataframe tbody tr th:only-of-type {\n",
       "        vertical-align: middle;\n",
       "    }\n",
       "\n",
       "    .dataframe tbody tr th {\n",
       "        vertical-align: top;\n",
       "    }\n",
       "\n",
       "    .dataframe thead th {\n",
       "        text-align: right;\n",
       "    }\n",
       "</style>\n",
       "<table border=\"1\" class=\"dataframe\">\n",
       "  <thead>\n",
       "    <tr style=\"text-align: right;\">\n",
       "      <th></th>\n",
       "      <th></th>\n",
       "      <th>rND</th>\n",
       "      <th>rKL</th>\n",
       "      <th>rRD</th>\n",
       "      <th>APCR</th>\n",
       "      <th>nd_APCR</th>\n",
       "      <th>equal_ex</th>\n",
       "      <th>ndcg</th>\n",
       "    </tr>\n",
       "    <tr>\n",
       "      <th></th>\n",
       "      <th>Algorithm</th>\n",
       "      <th></th>\n",
       "      <th></th>\n",
       "      <th></th>\n",
       "      <th></th>\n",
       "      <th></th>\n",
       "      <th></th>\n",
       "      <th></th>\n",
       "    </tr>\n",
       "  </thead>\n",
       "  <tbody>\n",
       "    <tr>\n",
       "      <th rowspan=\"4\" valign=\"top\">Drama</th>\n",
       "      <th>ALS</th>\n",
       "      <td>-0.060204</td>\n",
       "      <td>-0.006622</td>\n",
       "      <td>0.350203</td>\n",
       "      <td>1.0</td>\n",
       "      <td>0.963533</td>\n",
       "      <td>1.006936</td>\n",
       "      <td>0.320517</td>\n",
       "    </tr>\n",
       "    <tr>\n",
       "      <th>FunkSVD</th>\n",
       "      <td>-0.057966</td>\n",
       "      <td>-0.004535</td>\n",
       "      <td>0.491061</td>\n",
       "      <td>1.0</td>\n",
       "      <td>0.962361</td>\n",
       "      <td>1.006587</td>\n",
       "      <td>0.282647</td>\n",
       "    </tr>\n",
       "    <tr>\n",
       "      <th>ItemItem</th>\n",
       "      <td>-0.055437</td>\n",
       "      <td>-0.005861</td>\n",
       "      <td>0.335510</td>\n",
       "      <td>1.0</td>\n",
       "      <td>0.962878</td>\n",
       "      <td>1.000358</td>\n",
       "      <td>0.296505</td>\n",
       "    </tr>\n",
       "    <tr>\n",
       "      <th>UserUser</th>\n",
       "      <td>-0.066052</td>\n",
       "      <td>-0.007750</td>\n",
       "      <td>0.681052</td>\n",
       "      <td>1.0</td>\n",
       "      <td>0.960140</td>\n",
       "      <td>0.983756</td>\n",
       "      <td>0.271042</td>\n",
       "    </tr>\n",
       "    <tr>\n",
       "      <th rowspan=\"4\" valign=\"top\">Action</th>\n",
       "      <th>ALS</th>\n",
       "      <td>-0.242901</td>\n",
       "      <td>-0.042514</td>\n",
       "      <td>0.033575</td>\n",
       "      <td>1.0</td>\n",
       "      <td>0.963533</td>\n",
       "      <td>1.019947</td>\n",
       "      <td>0.320517</td>\n",
       "    </tr>\n",
       "    <tr>\n",
       "      <th>FunkSVD</th>\n",
       "      <td>-0.291129</td>\n",
       "      <td>-0.062032</td>\n",
       "      <td>0.050497</td>\n",
       "      <td>1.0</td>\n",
       "      <td>0.962361</td>\n",
       "      <td>1.014297</td>\n",
       "      <td>0.282647</td>\n",
       "    </tr>\n",
       "    <tr>\n",
       "      <th>ItemItem</th>\n",
       "      <td>-0.226653</td>\n",
       "      <td>-0.039724</td>\n",
       "      <td>0.070373</td>\n",
       "      <td>1.0</td>\n",
       "      <td>0.962878</td>\n",
       "      <td>1.004476</td>\n",
       "      <td>0.296505</td>\n",
       "    </tr>\n",
       "    <tr>\n",
       "      <th>UserUser</th>\n",
       "      <td>-0.244386</td>\n",
       "      <td>-0.033283</td>\n",
       "      <td>0.057767</td>\n",
       "      <td>1.0</td>\n",
       "      <td>0.960140</td>\n",
       "      <td>1.009035</td>\n",
       "      <td>0.271042</td>\n",
       "    </tr>\n",
       "  </tbody>\n",
       "</table>\n",
       "</div>"
      ],
      "text/plain": [
       "                       rND       rKL       rRD  APCR   nd_APCR  equal_ex  \\\n",
       "       Algorithm                                                           \n",
       "Drama  ALS       -0.060204 -0.006622  0.350203   1.0  0.963533  1.006936   \n",
       "       FunkSVD   -0.057966 -0.004535  0.491061   1.0  0.962361  1.006587   \n",
       "       ItemItem  -0.055437 -0.005861  0.335510   1.0  0.962878  1.000358   \n",
       "       UserUser  -0.066052 -0.007750  0.681052   1.0  0.960140  0.983756   \n",
       "Action ALS       -0.242901 -0.042514  0.033575   1.0  0.963533  1.019947   \n",
       "       FunkSVD   -0.291129 -0.062032  0.050497   1.0  0.962361  1.014297   \n",
       "       ItemItem  -0.226653 -0.039724  0.070373   1.0  0.962878  1.004476   \n",
       "       UserUser  -0.244386 -0.033283  0.057767   1.0  0.960140  1.009035   \n",
       "\n",
       "                      ndcg  \n",
       "       Algorithm            \n",
       "Drama  ALS        0.320517  \n",
       "       FunkSVD    0.282647  \n",
       "       ItemItem   0.296505  \n",
       "       UserUser   0.271042  \n",
       "Action ALS        0.320517  \n",
       "       FunkSVD    0.282647  \n",
       "       ItemItem   0.296505  \n",
       "       UserUser   0.271042  "
      ]
     },
     "execution_count": 7,
     "metadata": {},
     "output_type": "execute_result"
    }
   ],
   "source": [
    "output = pd.concat(allResults, keys=testproviders)\n",
    "output"
   ]
  },
  {
   "cell_type": "code",
   "execution_count": null,
   "metadata": {},
   "outputs": [],
   "source": []
  }
 ],
 "metadata": {
  "kernelspec": {
   "display_name": "Python 3",
   "language": "python",
   "name": "python3"
  },
  "language_info": {
   "codemirror_mode": {
    "name": "ipython",
    "version": 3
   },
   "file_extension": ".py",
   "mimetype": "text/x-python",
   "name": "python",
   "nbconvert_exporter": "python",
   "pygments_lexer": "ipython3",
   "version": "3.7.1"
  }
 },
 "nbformat": 4,
 "nbformat_minor": 2
}
