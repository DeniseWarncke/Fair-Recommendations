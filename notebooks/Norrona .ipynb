{
 "cells": [
  {
   "cell_type": "markdown",
   "metadata": {},
   "source": [
    "# Read and analyze Norrøna Data \n",
    "\n",
    "This Notebook read in the Norrona Dataset, train the ALS implicit algorithm and evalute the model \n",
    "both in terms of utility of the user (ndcg) and in terms of diferent fairness measures. "
   ]
  },
  {
   "cell_type": "code",
   "execution_count": 1,
   "metadata": {},
   "outputs": [],
   "source": [
    "import os,sys,inspect\n",
    "currentdir = os.path.dirname(os.path.abspath(inspect.getfile(inspect.currentframe())))\n",
    "parentdir = os.path.dirname(currentdir)\n",
    "# Add parent dir to path, so that python finds the lenskit package\n",
    "sys.path.insert(0,parentdir)"
   ]
  },
  {
   "cell_type": "markdown",
   "metadata": {},
   "source": [
    "Read relevant packages in Lenskit  "
   ]
  },
  {
   "cell_type": "code",
   "execution_count": 2,
   "metadata": {},
   "outputs": [],
   "source": [
    "from lenskit.metrics import dataGenerator\n",
    "from lenskit import batch, topn, util, topnFair\n",
    "from lenskit import crossfold as xf\n",
    "from lenskit.algorithms import Recommender, als, user_knn as knn"
   ]
  },
  {
   "cell_type": "code",
   "execution_count": 3,
   "metadata": {},
   "outputs": [],
   "source": [
    "import numpy as np\n",
    "import pandas as pd\n",
    "%matplotlib inline"
   ]
  },
  {
   "cell_type": "markdown",
   "metadata": {},
   "source": [
    "Read the Norrona dataset "
   ]
  },
  {
   "cell_type": "code",
   "execution_count": 4,
   "metadata": {},
   "outputs": [
    {
     "data": {
      "text/html": [
       "<div>\n",
       "<style scoped>\n",
       "    .dataframe tbody tr th:only-of-type {\n",
       "        vertical-align: middle;\n",
       "    }\n",
       "\n",
       "    .dataframe tbody tr th {\n",
       "        vertical-align: top;\n",
       "    }\n",
       "\n",
       "    .dataframe thead th {\n",
       "        text-align: right;\n",
       "    }\n",
       "</style>\n",
       "<table border=\"1\" class=\"dataframe\">\n",
       "  <thead>\n",
       "    <tr style=\"text-align: right;\">\n",
       "      <th></th>\n",
       "      <th>user</th>\n",
       "      <th>item</th>\n",
       "      <th>name</th>\n",
       "      <th>rating</th>\n",
       "    </tr>\n",
       "  </thead>\n",
       "  <tbody>\n",
       "    <tr>\n",
       "      <th>0</th>\n",
       "      <td>4a0b96a4-e6a0-41b9-9ecd-7212413c4d9e</td>\n",
       "      <td>2003-18 2295</td>\n",
       "      <td>lyngen Windstopper hybrid Jacket (M)</td>\n",
       "      <td>1</td>\n",
       "    </tr>\n",
       "    <tr>\n",
       "      <th>1</th>\n",
       "      <td>77e6a03c-a222-48bb-8737-6c7bb3572a52</td>\n",
       "      <td>5252-12 2320</td>\n",
       "      <td>røldal warm3 Jacket (W)</td>\n",
       "      <td>1</td>\n",
       "    </tr>\n",
       "    <tr>\n",
       "      <th>2</th>\n",
       "      <td>424d96d4-d592-4c10-9ceb-e2e2774abd6e</td>\n",
       "      <td>1062-17 2335</td>\n",
       "      <td>lofoten dri1 PrimaLoft170 short Gloves</td>\n",
       "      <td>2</td>\n",
       "    </tr>\n",
       "    <tr>\n",
       "      <th>3</th>\n",
       "      <td>03a116ee-18d5-4968-93f1-ae62d1c35684</td>\n",
       "      <td>1805-17 2345</td>\n",
       "      <td>falketind Alpha60 Jacket (M)</td>\n",
       "      <td>1</td>\n",
       "    </tr>\n",
       "    <tr>\n",
       "      <th>4</th>\n",
       "      <td>9359335c-8b7d-449f-a2c0-a84477a6f229</td>\n",
       "      <td>1058-17 6725</td>\n",
       "      <td>lofoten Gore-Tex Pro Light Pants (W)</td>\n",
       "      <td>1</td>\n",
       "    </tr>\n",
       "  </tbody>\n",
       "</table>\n",
       "</div>"
      ],
      "text/plain": [
       "                                   user          item  \\\n",
       "0  4a0b96a4-e6a0-41b9-9ecd-7212413c4d9e  2003-18 2295   \n",
       "1  77e6a03c-a222-48bb-8737-6c7bb3572a52  5252-12 2320   \n",
       "2  424d96d4-d592-4c10-9ceb-e2e2774abd6e  1062-17 2335   \n",
       "3  03a116ee-18d5-4968-93f1-ae62d1c35684  1805-17 2345   \n",
       "4  9359335c-8b7d-449f-a2c0-a84477a6f229  1058-17 6725   \n",
       "\n",
       "                                     name  rating  \n",
       "0    lyngen Windstopper hybrid Jacket (M)       1  \n",
       "1                 røldal warm3 Jacket (W)       1  \n",
       "2  lofoten dri1 PrimaLoft170 short Gloves       2  \n",
       "3            falketind Alpha60 Jacket (M)       1  \n",
       "4    lofoten Gore-Tex Pro Light Pants (W)       1  "
      ]
     },
     "execution_count": 4,
     "metadata": {},
     "output_type": "execute_result"
    }
   ],
   "source": [
    "ratings = pd.read_csv('/Users/josse/Git-kode projects/Speciale/Fair-Recommendations/ml-latest-small/norrona_10000_name.csv', sep=',',\n",
    "                      names=['user', 'item', 'name','rating'], header=0)\n",
    "ratings.head()"
   ]
  },
  {
   "cell_type": "code",
   "execution_count": 5,
   "metadata": {},
   "outputs": [],
   "source": [
    "algo_implicitALS = als.ImplicitMF(50)\n",
    "algo_als = als.BiasedMF(50)"
   ]
  },
  {
   "cell_type": "code",
   "execution_count": 6,
   "metadata": {},
   "outputs": [],
   "source": [
    "def eval(aname, algo, train, test):\n",
    "    fittable = util.clone(algo)\n",
    "    fittable = Recommender.adapt(fittable)\n",
    "    fittable.fit(train)\n",
    "    users = test.user.unique()\n",
    "    # now we run the recommender\n",
    "    recs = batch.recommend(fittable, users, 100)\n",
    "    # add the algorithm name for analyzability\n",
    "    recs['Algorithm'] = aname\n",
    "    return recs"
   ]
  },
  {
   "cell_type": "code",
   "execution_count": 7,
   "metadata": {},
   "outputs": [],
   "source": [
    "all_recs = []\n",
    "test_data = []\n",
    "for train, test in xf.partition_users(ratings[['user', 'item', 'rating', 'name']], 2, xf.SampleFrac(0.4)):\n",
    "    test_data.append(test)\n",
    "    all_recs.append(eval('Implicit_ALS', algo_implicitALS, train, test))\n",
    "    all_recs.append(eval('ALS', algo_als, train, test))"
   ]
  },
  {
   "cell_type": "code",
   "execution_count": 8,
   "metadata": {},
   "outputs": [],
   "source": [
    "all_recs = pd.concat(all_recs, ignore_index=True)\n",
    "test_data = pd.concat(test_data, ignore_index=True)"
   ]
  },
  {
   "cell_type": "code",
   "execution_count": 9,
   "metadata": {},
   "outputs": [
    {
     "data": {
      "text/html": [
       "<div>\n",
       "<style scoped>\n",
       "    .dataframe tbody tr th:only-of-type {\n",
       "        vertical-align: middle;\n",
       "    }\n",
       "\n",
       "    .dataframe tbody tr th {\n",
       "        vertical-align: top;\n",
       "    }\n",
       "\n",
       "    .dataframe thead th {\n",
       "        text-align: right;\n",
       "    }\n",
       "</style>\n",
       "<table border=\"1\" class=\"dataframe\">\n",
       "  <thead>\n",
       "    <tr style=\"text-align: right;\">\n",
       "      <th></th>\n",
       "      <th>item</th>\n",
       "      <th>score</th>\n",
       "      <th>user</th>\n",
       "      <th>rank</th>\n",
       "      <th>Algorithm</th>\n",
       "    </tr>\n",
       "  </thead>\n",
       "  <tbody>\n",
       "    <tr>\n",
       "      <th>0</th>\n",
       "      <td>1009-17 8915</td>\n",
       "      <td>0.730388</td>\n",
       "      <td>0275e660-94f8-4186-a43a-583ea327f24a</td>\n",
       "      <td>1</td>\n",
       "      <td>Implicit_ALS</td>\n",
       "    </tr>\n",
       "    <tr>\n",
       "      <th>1</th>\n",
       "      <td>3004-16 5640</td>\n",
       "      <td>0.427768</td>\n",
       "      <td>0275e660-94f8-4186-a43a-583ea327f24a</td>\n",
       "      <td>2</td>\n",
       "      <td>Implicit_ALS</td>\n",
       "    </tr>\n",
       "    <tr>\n",
       "      <th>2</th>\n",
       "      <td>1001-18 7718</td>\n",
       "      <td>0.368652</td>\n",
       "      <td>0275e660-94f8-4186-a43a-583ea327f24a</td>\n",
       "      <td>3</td>\n",
       "      <td>Implicit_ALS</td>\n",
       "    </tr>\n",
       "    <tr>\n",
       "      <th>3</th>\n",
       "      <td>1015-17 2330</td>\n",
       "      <td>0.362860</td>\n",
       "      <td>0275e660-94f8-4186-a43a-583ea327f24a</td>\n",
       "      <td>4</td>\n",
       "      <td>Implicit_ALS</td>\n",
       "    </tr>\n",
       "    <tr>\n",
       "      <th>4</th>\n",
       "      <td>4611-18 3301</td>\n",
       "      <td>0.343769</td>\n",
       "      <td>0275e660-94f8-4186-a43a-583ea327f24a</td>\n",
       "      <td>5</td>\n",
       "      <td>Implicit_ALS</td>\n",
       "    </tr>\n",
       "  </tbody>\n",
       "</table>\n",
       "</div>"
      ],
      "text/plain": [
       "           item     score                                  user  rank  \\\n",
       "0  1009-17 8915  0.730388  0275e660-94f8-4186-a43a-583ea327f24a     1   \n",
       "1  3004-16 5640  0.427768  0275e660-94f8-4186-a43a-583ea327f24a     2   \n",
       "2  1001-18 7718  0.368652  0275e660-94f8-4186-a43a-583ea327f24a     3   \n",
       "3  1015-17 2330  0.362860  0275e660-94f8-4186-a43a-583ea327f24a     4   \n",
       "4  4611-18 3301  0.343769  0275e660-94f8-4186-a43a-583ea327f24a     5   \n",
       "\n",
       "      Algorithm  \n",
       "0  Implicit_ALS  \n",
       "1  Implicit_ALS  \n",
       "2  Implicit_ALS  \n",
       "3  Implicit_ALS  \n",
       "4  Implicit_ALS  "
      ]
     },
     "execution_count": 9,
     "metadata": {},
     "output_type": "execute_result"
    }
   ],
   "source": [
    "all_recs.head()"
   ]
  },
  {
   "cell_type": "code",
   "execution_count": 10,
   "metadata": {},
   "outputs": [
    {
     "name": "stderr",
     "output_type": "stream",
     "text": [
      "C:\\Users\\josse\\Anaconda3\\lib\\site-packages\\pandas\\core\\indexing.py:1472: PerformanceWarning: indexing past lexsort depth may impact performance.\n",
      "  return self._getitem_tuple(key)\n"
     ]
    },
    {
     "data": {
      "text/html": [
       "<div>\n",
       "<style scoped>\n",
       "    .dataframe tbody tr th:only-of-type {\n",
       "        vertical-align: middle;\n",
       "    }\n",
       "\n",
       "    .dataframe tbody tr th {\n",
       "        vertical-align: top;\n",
       "    }\n",
       "\n",
       "    .dataframe thead th {\n",
       "        text-align: right;\n",
       "    }\n",
       "</style>\n",
       "<table border=\"1\" class=\"dataframe\">\n",
       "  <thead>\n",
       "    <tr style=\"text-align: right;\">\n",
       "      <th></th>\n",
       "      <th></th>\n",
       "      <th>ndcg</th>\n",
       "    </tr>\n",
       "    <tr>\n",
       "      <th>user</th>\n",
       "      <th>Algorithm</th>\n",
       "      <th></th>\n",
       "    </tr>\n",
       "  </thead>\n",
       "  <tbody>\n",
       "    <tr>\n",
       "      <th rowspan=\"2\" valign=\"top\">0275e660-94f8-4186-a43a-583ea327f24a</th>\n",
       "      <th>ALS</th>\n",
       "      <td>0.0</td>\n",
       "    </tr>\n",
       "    <tr>\n",
       "      <th>Implicit_ALS</th>\n",
       "      <td>0.0</td>\n",
       "    </tr>\n",
       "    <tr>\n",
       "      <th rowspan=\"2\" valign=\"top\">037a13fb-0851-430c-9d37-0b6340874c45</th>\n",
       "      <th>ALS</th>\n",
       "      <td>0.0</td>\n",
       "    </tr>\n",
       "    <tr>\n",
       "      <th>Implicit_ALS</th>\n",
       "      <td>0.0</td>\n",
       "    </tr>\n",
       "    <tr>\n",
       "      <th>03957f3b-b9af-45e0-825a-986f43615abc</th>\n",
       "      <th>ALS</th>\n",
       "      <td>0.0</td>\n",
       "    </tr>\n",
       "  </tbody>\n",
       "</table>\n",
       "</div>"
      ],
      "text/plain": [
       "                                                   ndcg\n",
       "user                                 Algorithm         \n",
       "0275e660-94f8-4186-a43a-583ea327f24a ALS            0.0\n",
       "                                     Implicit_ALS   0.0\n",
       "037a13fb-0851-430c-9d37-0b6340874c45 ALS            0.0\n",
       "                                     Implicit_ALS   0.0\n",
       "03957f3b-b9af-45e0-825a-986f43615abc ALS            0.0"
      ]
     },
     "execution_count": 10,
     "metadata": {},
     "output_type": "execute_result"
    }
   ],
   "source": [
    "rla = topn.RecListAnalysis()\n",
    "rla.add_metric(topn.ndcg)\n",
    "results = rla.compute(all_recs, test_data)\n",
    "results.head()"
   ]
  },
  {
   "cell_type": "code",
   "execution_count": 11,
   "metadata": {},
   "outputs": [
    {
     "data": {
      "text/plain": [
       "Algorithm\n",
       "ALS             0.026455\n",
       "Implicit_ALS    0.023296\n",
       "Name: ndcg, dtype: float64"
      ]
     },
     "execution_count": 11,
     "metadata": {},
     "output_type": "execute_result"
    }
   ],
   "source": [
    "results.groupby('Algorithm').ndcg.mean()"
   ]
  },
  {
   "cell_type": "code",
   "execution_count": 12,
   "metadata": {},
   "outputs": [
    {
     "name": "stderr",
     "output_type": "stream",
     "text": [
      "C:\\Users\\josse\\Anaconda3\\lib\\site-packages\\ipykernel_launcher.py:3: UserWarning: This pattern has match groups. To actually get the groups, use str.extract.\n",
      "  This is separate from the ipykernel package so we can avoid doing imports until\n"
     ]
    },
    {
     "data": {
      "text/html": [
       "<div>\n",
       "<style scoped>\n",
       "    .dataframe tbody tr th:only-of-type {\n",
       "        vertical-align: middle;\n",
       "    }\n",
       "\n",
       "    .dataframe tbody tr th {\n",
       "        vertical-align: top;\n",
       "    }\n",
       "\n",
       "    .dataframe thead th {\n",
       "        text-align: right;\n",
       "    }\n",
       "</style>\n",
       "<table border=\"1\" class=\"dataframe\">\n",
       "  <thead>\n",
       "    <tr style=\"text-align: right;\">\n",
       "      <th></th>\n",
       "      <th>item</th>\n",
       "      <th>score</th>\n",
       "      <th>user</th>\n",
       "      <th>rank</th>\n",
       "      <th>Algorithm</th>\n",
       "      <th>name</th>\n",
       "      <th>Gender</th>\n",
       "      <th>Female</th>\n",
       "      <th>Male</th>\n",
       "    </tr>\n",
       "  </thead>\n",
       "  <tbody>\n",
       "    <tr>\n",
       "      <th>0</th>\n",
       "      <td>1009-17 8915</td>\n",
       "      <td>0.730388</td>\n",
       "      <td>0275e660-94f8-4186-a43a-583ea327f24a</td>\n",
       "      <td>1</td>\n",
       "      <td>Implicit_ALS</td>\n",
       "      <td>lofoten ACE Gore-tex Pro Pants (M)</td>\n",
       "      <td>Male</td>\n",
       "      <td>0</td>\n",
       "      <td>1</td>\n",
       "    </tr>\n",
       "    <tr>\n",
       "      <th>0</th>\n",
       "      <td>1009-17 8915</td>\n",
       "      <td>0.730388</td>\n",
       "      <td>0275e660-94f8-4186-a43a-583ea327f24a</td>\n",
       "      <td>1</td>\n",
       "      <td>Implicit_ALS</td>\n",
       "      <td>lofoten ACE Gore-tex Pro Pants (M)</td>\n",
       "      <td>Male</td>\n",
       "      <td>0</td>\n",
       "      <td>1</td>\n",
       "    </tr>\n",
       "    <tr>\n",
       "      <th>0</th>\n",
       "      <td>1009-17 8915</td>\n",
       "      <td>0.730388</td>\n",
       "      <td>0275e660-94f8-4186-a43a-583ea327f24a</td>\n",
       "      <td>1</td>\n",
       "      <td>Implicit_ALS</td>\n",
       "      <td>lofoten ACE Gore-tex Pro Pants (M)</td>\n",
       "      <td>Male</td>\n",
       "      <td>0</td>\n",
       "      <td>1</td>\n",
       "    </tr>\n",
       "    <tr>\n",
       "      <th>0</th>\n",
       "      <td>1009-17 8915</td>\n",
       "      <td>0.730388</td>\n",
       "      <td>0275e660-94f8-4186-a43a-583ea327f24a</td>\n",
       "      <td>1</td>\n",
       "      <td>Implicit_ALS</td>\n",
       "      <td>lofoten ACE Gore-tex Pro Pants (M)</td>\n",
       "      <td>Male</td>\n",
       "      <td>0</td>\n",
       "      <td>1</td>\n",
       "    </tr>\n",
       "    <tr>\n",
       "      <th>0</th>\n",
       "      <td>1009-17 8915</td>\n",
       "      <td>0.730388</td>\n",
       "      <td>0275e660-94f8-4186-a43a-583ea327f24a</td>\n",
       "      <td>1</td>\n",
       "      <td>Implicit_ALS</td>\n",
       "      <td>lofoten ACE Gore-tex Pro Pants (M)</td>\n",
       "      <td>Male</td>\n",
       "      <td>0</td>\n",
       "      <td>1</td>\n",
       "    </tr>\n",
       "  </tbody>\n",
       "</table>\n",
       "</div>"
      ],
      "text/plain": [
       "           item     score                                  user  rank  \\\n",
       "0  1009-17 8915  0.730388  0275e660-94f8-4186-a43a-583ea327f24a     1   \n",
       "0  1009-17 8915  0.730388  0275e660-94f8-4186-a43a-583ea327f24a     1   \n",
       "0  1009-17 8915  0.730388  0275e660-94f8-4186-a43a-583ea327f24a     1   \n",
       "0  1009-17 8915  0.730388  0275e660-94f8-4186-a43a-583ea327f24a     1   \n",
       "0  1009-17 8915  0.730388  0275e660-94f8-4186-a43a-583ea327f24a     1   \n",
       "\n",
       "      Algorithm                                name Gender  Female  Male  \n",
       "0  Implicit_ALS  lofoten ACE Gore-tex Pro Pants (M)   Male       0     1  \n",
       "0  Implicit_ALS  lofoten ACE Gore-tex Pro Pants (M)   Male       0     1  \n",
       "0  Implicit_ALS  lofoten ACE Gore-tex Pro Pants (M)   Male       0     1  \n",
       "0  Implicit_ALS  lofoten ACE Gore-tex Pro Pants (M)   Male       0     1  \n",
       "0  Implicit_ALS  lofoten ACE Gore-tex Pro Pants (M)   Male       0     1  "
      ]
     },
     "execution_count": 12,
     "metadata": {},
     "output_type": "execute_result"
    }
   ],
   "source": [
    "#ratings1 = ratings[[\"item\", \"name\"]]\n",
    "all_recs_joined = all_recs.join(ratings[[\"item\", \"name\"]].set_index(\"item\"), on='item')\n",
    "all_recs_joined['Gender'] = np.where(all_recs_joined[\"name\"].str.contains(\"(M)\",case=False, regex=True),\"Male\",\"Female\")\n",
    "dummies = pd.get_dummies(all_recs_joined.Gender)\n",
    "res1 = pd.concat([all_recs_joined, dummies], axis=1)\n",
    "res1.head()"
   ]
  },
  {
   "cell_type": "code",
   "execution_count": 28,
   "metadata": {},
   "outputs": [
    {
     "data": {
      "text/html": [
       "<div>\n",
       "<style scoped>\n",
       "    .dataframe tbody tr th:only-of-type {\n",
       "        vertical-align: middle;\n",
       "    }\n",
       "\n",
       "    .dataframe tbody tr th {\n",
       "        vertical-align: top;\n",
       "    }\n",
       "\n",
       "    .dataframe thead th {\n",
       "        text-align: right;\n",
       "    }\n",
       "</style>\n",
       "<table border=\"1\" class=\"dataframe\">\n",
       "  <thead>\n",
       "    <tr style=\"text-align: right;\">\n",
       "      <th></th>\n",
       "      <th>item</th>\n",
       "      <th>score</th>\n",
       "      <th>user</th>\n",
       "      <th>rank</th>\n",
       "      <th>Algorithm</th>\n",
       "      <th>name</th>\n",
       "      <th>Female</th>\n",
       "      <th>Male</th>\n",
       "    </tr>\n",
       "    <tr>\n",
       "      <th>Gender</th>\n",
       "      <th></th>\n",
       "      <th></th>\n",
       "      <th></th>\n",
       "      <th></th>\n",
       "      <th></th>\n",
       "      <th></th>\n",
       "      <th></th>\n",
       "      <th></th>\n",
       "    </tr>\n",
       "  </thead>\n",
       "  <tbody>\n",
       "    <tr>\n",
       "      <th>Female</th>\n",
       "      <td>191106</td>\n",
       "      <td>191106</td>\n",
       "      <td>191106</td>\n",
       "      <td>191106</td>\n",
       "      <td>191106</td>\n",
       "      <td>191106</td>\n",
       "      <td>191106</td>\n",
       "      <td>191106</td>\n",
       "    </tr>\n",
       "    <tr>\n",
       "      <th>Male</th>\n",
       "      <td>387413</td>\n",
       "      <td>387413</td>\n",
       "      <td>387413</td>\n",
       "      <td>387413</td>\n",
       "      <td>387413</td>\n",
       "      <td>387413</td>\n",
       "      <td>387413</td>\n",
       "      <td>387413</td>\n",
       "    </tr>\n",
       "  </tbody>\n",
       "</table>\n",
       "</div>"
      ],
      "text/plain": [
       "          item   score    user    rank  Algorithm    name  Female    Male\n",
       "Gender                                                                   \n",
       "Female  191106  191106  191106  191106     191106  191106  191106  191106\n",
       "Male    387413  387413  387413  387413     387413  387413  387413  387413"
      ]
     },
     "execution_count": 28,
     "metadata": {},
     "output_type": "execute_result"
    }
   ],
   "source": [
    "res1.groupby('Gender').count()\n",
    "#print(res1.Gender.value_counts())\n",
    "#res1.item.nunique()\n",
    "#res1.user.nunique()\n",
    "#res1.Gender.nunique()\n",
    "\n",
    "#print(res1.shape[0])\n"
   ]
  },
  {
   "cell_type": "code",
   "execution_count": 14,
   "metadata": {},
   "outputs": [
    {
     "name": "stdout",
     "output_type": "stream",
     "text": [
      "['Female', 'Male']\n"
     ]
    }
   ],
   "source": [
    "res= list(res1.iloc[:,7:])\n",
    "print(res)"
   ]
  },
  {
   "cell_type": "code",
   "execution_count": 15,
   "metadata": {},
   "outputs": [
    {
     "ename": "TypeError",
     "evalue": "Input user number must be an integer",
     "output_type": "error",
     "traceback": [
      "\u001b[1;31m---------------------------------------------------------------------------\u001b[0m",
      "\u001b[1;31mTypeError\u001b[0m                                 Traceback (most recent call last)",
      "\u001b[1;32m<ipython-input-15-6d08f68a4c55>\u001b[0m in \u001b[0;36m<module>\u001b[1;34m\u001b[0m\n\u001b[0;32m      7\u001b[0m \u001b[0mrlaFair\u001b[0m\u001b[1;33m.\u001b[0m\u001b[0madd_metric\u001b[0m\u001b[1;33m(\u001b[0m\u001b[1;34m\"div\"\u001b[0m\u001b[1;33m)\u001b[0m\u001b[1;33m\u001b[0m\u001b[1;33m\u001b[0m\u001b[0m\n\u001b[0;32m      8\u001b[0m \u001b[0mrlaFair\u001b[0m\u001b[1;33m.\u001b[0m\u001b[0madd_metric\u001b[0m\u001b[1;33m(\u001b[0m\u001b[1;34m\"dem_parity\"\u001b[0m\u001b[1;33m)\u001b[0m\u001b[1;33m\u001b[0m\u001b[1;33m\u001b[0m\u001b[0m\n\u001b[1;32m----> 9\u001b[1;33m \u001b[0mresults\u001b[0m \u001b[1;33m=\u001b[0m \u001b[0mrlaFair\u001b[0m\u001b[1;33m.\u001b[0m\u001b[0mcompute\u001b[0m\u001b[1;33m(\u001b[0m\u001b[0mres1\u001b[0m\u001b[1;33m,\u001b[0m \u001b[0mtest_data\u001b[0m\u001b[1;33m,\u001b[0m \u001b[1;34m\"Female\"\u001b[0m\u001b[1;33m,\u001b[0m \u001b[0mres\u001b[0m\u001b[1;33m,\u001b[0m \u001b[1;33m)\u001b[0m\u001b[1;33m\u001b[0m\u001b[1;33m\u001b[0m\u001b[0m\n\u001b[0m\u001b[0;32m     10\u001b[0m \u001b[0mresults\u001b[0m\u001b[1;33m.\u001b[0m\u001b[0mhead\u001b[0m\u001b[1;33m(\u001b[0m\u001b[1;33m)\u001b[0m\u001b[1;33m\u001b[0m\u001b[1;33m\u001b[0m\u001b[0m\n\u001b[0;32m     11\u001b[0m \u001b[1;33m\u001b[0m\u001b[0m\n",
      "\u001b[1;32m~\\Git-kode projects\\Speciale\\Fair-Recommendations\\lenskit\\topnFair.py\u001b[0m in \u001b[0;36mcompute\u001b[1;34m(self, recs, truth, protected_varible, providers, items_N, proItems_N)\u001b[0m\n\u001b[0;32m    123\u001b[0m                 \u001b[1;31m#g_recs.head\u001b[0m\u001b[1;33m\u001b[0m\u001b[1;33m\u001b[0m\u001b[1;33m\u001b[0m\u001b[0m\n\u001b[0;32m    124\u001b[0m                 \u001b[1;31m#print(len(g_recs))\u001b[0m\u001b[1;33m\u001b[0m\u001b[1;33m\u001b[0m\u001b[1;33m\u001b[0m\u001b[0m\n\u001b[1;32m--> 125\u001b[1;33m                 \u001b[0mres\u001b[0m\u001b[1;33m.\u001b[0m\u001b[0miloc\u001b[0m\u001b[1;33m[\u001b[0m\u001b[0mi\u001b[0m\u001b[1;33m,\u001b[0m \u001b[0mj\u001b[0m\u001b[1;33m]\u001b[0m \u001b[1;33m=\u001b[0m \u001b[0mcalculateNDFairnes\u001b[0m\u001b[1;33m(\u001b[0m\u001b[0mg_recs\u001b[0m\u001b[1;33m,\u001b[0m \u001b[0mg_truth\u001b[0m\u001b[1;33m,\u001b[0m \u001b[0mmf\u001b[0m\u001b[1;33m,\u001b[0m \u001b[0mprotected_varible\u001b[0m\u001b[1;33m,\u001b[0m \u001b[0mproviders\u001b[0m\u001b[1;33m,\u001b[0m \u001b[0mitems_N\u001b[0m\u001b[1;33m,\u001b[0m \u001b[0mproItems_N\u001b[0m\u001b[1;33m)\u001b[0m\u001b[1;33m\u001b[0m\u001b[1;33m\u001b[0m\u001b[0m\n\u001b[0m\u001b[0;32m    126\u001b[0m \u001b[1;33m\u001b[0m\u001b[0m\n\u001b[0;32m    127\u001b[0m         \u001b[1;32mreturn\u001b[0m \u001b[0mres\u001b[0m\u001b[1;33m\u001b[0m\u001b[1;33m\u001b[0m\u001b[0m\n",
      "\u001b[1;32m~\\Git-kode projects\\Speciale\\Fair-Recommendations\\lenskit\\metrics\\topnFair.py\u001b[0m in \u001b[0;36mcalculateNDFairnes\u001b[1;34m(recs, truth, metric, protected_varible, providers, items_N, proItems_N)\u001b[0m\n\u001b[0;32m     51\u001b[0m \u001b[1;33m\u001b[0m\u001b[0m\n\u001b[0;32m     52\u001b[0m     \u001b[1;32melif\u001b[0m \u001b[0m_gf_measure\u001b[0m \u001b[1;33m==\u001b[0m \u001b[1;34m\"rND\"\u001b[0m \u001b[1;32mor\u001b[0m \u001b[0m_gf_measure\u001b[0m \u001b[1;33m==\u001b[0m \u001b[1;34m\"rKL\"\u001b[0m \u001b[1;32mor\u001b[0m \u001b[0m_gf_measure\u001b[0m \u001b[1;33m==\u001b[0m \u001b[1;34m\"rRD\"\u001b[0m\u001b[1;33m:\u001b[0m\u001b[1;33m\u001b[0m\u001b[1;33m\u001b[0m\u001b[0m\n\u001b[1;32m---> 53\u001b[1;33m         \u001b[0m_normalizer\u001b[0m \u001b[1;33m=\u001b[0m \u001b[0mgetNormalizer\u001b[0m\u001b[1;33m(\u001b[0m\u001b[0mitems_N\u001b[0m\u001b[1;33m,\u001b[0m \u001b[0mproItems_N\u001b[0m\u001b[1;33m,\u001b[0m \u001b[0m_gf_measure\u001b[0m\u001b[1;33m)\u001b[0m\u001b[1;33m\u001b[0m\u001b[1;33m\u001b[0m\u001b[0m\n\u001b[0m\u001b[0;32m     54\u001b[0m         \u001b[1;32mreturn\u001b[0m \u001b[0mcalculateNDFairnessPara\u001b[0m\u001b[1;33m(\u001b[0m\u001b[0m_ranking\u001b[0m\u001b[1;33m,\u001b[0m \u001b[0m_protected_group\u001b[0m\u001b[1;33m,\u001b[0m \u001b[0m_cut_point\u001b[0m\u001b[1;33m,\u001b[0m \u001b[0m_gf_measure\u001b[0m\u001b[1;33m,\u001b[0m \u001b[0m_normalizer\u001b[0m\u001b[1;33m)\u001b[0m\u001b[1;33m\u001b[0m\u001b[1;33m\u001b[0m\u001b[0m\n\u001b[0;32m     55\u001b[0m \u001b[1;33m\u001b[0m\u001b[0m\n",
      "\u001b[1;32m~\\Git-kode projects\\Speciale\\Fair-Recommendations\\lenskit\\metrics\\topnFair.py\u001b[0m in \u001b[0;36mgetNormalizer\u001b[1;34m(_user_N, _pro_N, _gf_measure)\u001b[0m\n\u001b[0;32m    254\u001b[0m     \u001b[1;31m# error handling for type\u001b[0m\u001b[1;33m\u001b[0m\u001b[1;33m\u001b[0m\u001b[1;33m\u001b[0m\u001b[0m\n\u001b[0;32m    255\u001b[0m     \u001b[1;32mif\u001b[0m \u001b[1;32mnot\u001b[0m \u001b[0misinstance\u001b[0m\u001b[1;33m(\u001b[0m \u001b[0m_user_N\u001b[0m\u001b[1;33m,\u001b[0m \u001b[1;33m(\u001b[0m \u001b[0mint\u001b[0m \u001b[1;33m)\u001b[0m \u001b[1;33m)\u001b[0m\u001b[1;33m:\u001b[0m\u001b[1;33m\u001b[0m\u001b[1;33m\u001b[0m\u001b[0m\n\u001b[1;32m--> 256\u001b[1;33m         \u001b[1;32mraise\u001b[0m \u001b[0mTypeError\u001b[0m\u001b[1;33m(\u001b[0m\u001b[1;34m\"Input user number must be an integer\"\u001b[0m\u001b[1;33m)\u001b[0m\u001b[1;33m\u001b[0m\u001b[1;33m\u001b[0m\u001b[0m\n\u001b[0m\u001b[0;32m    257\u001b[0m     \u001b[1;32mif\u001b[0m \u001b[1;32mnot\u001b[0m \u001b[0misinstance\u001b[0m\u001b[1;33m(\u001b[0m \u001b[0m_pro_N\u001b[0m\u001b[1;33m,\u001b[0m \u001b[1;33m(\u001b[0m \u001b[0mint\u001b[0m \u001b[1;33m)\u001b[0m \u001b[1;33m)\u001b[0m\u001b[1;33m:\u001b[0m\u001b[1;33m\u001b[0m\u001b[1;33m\u001b[0m\u001b[0m\n\u001b[0;32m    258\u001b[0m         \u001b[1;32mraise\u001b[0m \u001b[0mTypeError\u001b[0m\u001b[1;33m(\u001b[0m\u001b[1;34m\"Input size of protected group must be an integer\"\u001b[0m\u001b[1;33m)\u001b[0m\u001b[1;33m\u001b[0m\u001b[1;33m\u001b[0m\u001b[0m\n",
      "\u001b[1;31mTypeError\u001b[0m: Input user number must be an integer"
     ]
    }
   ],
   "source": [
    "\n",
    "\n",
    "rlaFair = topnFair.FairRecListAnalysis(['user', \"Algorithm\"])\n",
    "rlaFair.add_metric(\"rND\")\n",
    "rlaFair.add_metric(\"rKL\")\n",
    "rlaFair.add_metric(\"rRD\")\n",
    "rlaFair.add_metric(\"div\")\n",
    "rlaFair.add_metric(\"dem_parity\")\n",
    "results = rlaFair.compute(res1, test_data, \"Female\", res, res1.item.nunique(),  )\n",
    "results.head()\n",
    "\n",
    "\n"
   ]
  },
  {
   "cell_type": "code",
   "execution_count": null,
   "metadata": {},
   "outputs": [],
   "source": [
    "results.groupby('Algorithm').rND.mean().plot.bar()"
   ]
  },
  {
   "cell_type": "code",
   "execution_count": null,
   "metadata": {},
   "outputs": [],
   "source": [
    "results.groupby('Algorithm').div.mean().plot.bar()"
   ]
  },
  {
   "cell_type": "code",
   "execution_count": null,
   "metadata": {},
   "outputs": [],
   "source": []
  },
  {
   "cell_type": "code",
   "execution_count": null,
   "metadata": {},
   "outputs": [],
   "source": []
  },
  {
   "cell_type": "code",
   "execution_count": null,
   "metadata": {},
   "outputs": [],
   "source": []
  },
  {
   "cell_type": "code",
   "execution_count": null,
   "metadata": {},
   "outputs": [],
   "source": []
  }
 ],
 "metadata": {
  "kernelspec": {
   "display_name": "Python 3",
   "language": "python",
   "name": "python3"
  },
  "language_info": {
   "codemirror_mode": {
    "name": "ipython",
    "version": 3
   },
   "file_extension": ".py",
   "mimetype": "text/x-python",
   "name": "python",
   "nbconvert_exporter": "python",
   "pygments_lexer": "ipython3",
   "version": "3.7.1"
  }
 },
 "nbformat": 4,
 "nbformat_minor": 2
}
