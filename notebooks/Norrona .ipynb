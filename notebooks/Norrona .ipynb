{
 "cells": [
  {
   "cell_type": "markdown",
   "metadata": {},
   "source": [
    "# Read and analyze Norrøna Data \n",
    "\n",
    "This Notebook read in the Norrona Dataset, train the ALS implicit algorithm and evalute the model \n",
    "both in terms of utility of the user (ndcg) and in terms of diferent fairness measures. "
   ]
  },
  {
   "cell_type": "code",
   "execution_count": 1,
   "metadata": {},
   "outputs": [],
   "source": [
    "import os,sys,inspect\n",
    "currentdir = os.path.dirname(os.path.abspath(inspect.getfile(inspect.currentframe())))\n",
    "parentdir = os.path.dirname(currentdir)\n",
    "# Add parent dir to path, so that python finds the lenskit package\n",
    "sys.path.insert(0,parentdir)"
   ]
  },
  {
   "cell_type": "markdown",
   "metadata": {},
   "source": [
    "Read relevant packages in Lenskit  "
   ]
  },
  {
   "cell_type": "code",
   "execution_count": 2,
   "metadata": {},
   "outputs": [],
   "source": [
    "from lenskit.metrics import dataGenerator\n",
    "from lenskit import batch, topn, util, topnFair\n",
    "from lenskit import crossfold as xf\n",
    "from lenskit.algorithms import Recommender, als, user_knn as knn"
   ]
  },
  {
   "cell_type": "code",
   "execution_count": 3,
   "metadata": {},
   "outputs": [],
   "source": [
    "import numpy as np\n",
    "import pandas as pd\n",
    "%matplotlib inline"
   ]
  },
  {
   "cell_type": "markdown",
   "metadata": {},
   "source": [
    "Read the Norrona dataset "
   ]
  },
  {
   "cell_type": "code",
   "execution_count": 4,
   "metadata": {},
   "outputs": [
    {
     "data": {
      "text/html": [
       "<div>\n",
       "<style scoped>\n",
       "    .dataframe tbody tr th:only-of-type {\n",
       "        vertical-align: middle;\n",
       "    }\n",
       "\n",
       "    .dataframe tbody tr th {\n",
       "        vertical-align: top;\n",
       "    }\n",
       "\n",
       "    .dataframe thead th {\n",
       "        text-align: right;\n",
       "    }\n",
       "</style>\n",
       "<table border=\"1\" class=\"dataframe\">\n",
       "  <thead>\n",
       "    <tr style=\"text-align: right;\">\n",
       "      <th></th>\n",
       "      <th>user</th>\n",
       "      <th>item</th>\n",
       "      <th>name</th>\n",
       "      <th>rating</th>\n",
       "    </tr>\n",
       "  </thead>\n",
       "  <tbody>\n",
       "    <tr>\n",
       "      <th>0</th>\n",
       "      <td>4a0b96a4-e6a0-41b9-9ecd-7212413c4d9e</td>\n",
       "      <td>2003-18 2295</td>\n",
       "      <td>lyngen Windstopper hybrid Jacket (M)</td>\n",
       "      <td>1</td>\n",
       "    </tr>\n",
       "    <tr>\n",
       "      <th>1</th>\n",
       "      <td>77e6a03c-a222-48bb-8737-6c7bb3572a52</td>\n",
       "      <td>5252-12 2320</td>\n",
       "      <td>røldal warm3 Jacket (W)</td>\n",
       "      <td>1</td>\n",
       "    </tr>\n",
       "    <tr>\n",
       "      <th>2</th>\n",
       "      <td>424d96d4-d592-4c10-9ceb-e2e2774abd6e</td>\n",
       "      <td>1062-17 2335</td>\n",
       "      <td>lofoten dri1 PrimaLoft170 short Gloves</td>\n",
       "      <td>2</td>\n",
       "    </tr>\n",
       "    <tr>\n",
       "      <th>3</th>\n",
       "      <td>03a116ee-18d5-4968-93f1-ae62d1c35684</td>\n",
       "      <td>1805-17 2345</td>\n",
       "      <td>falketind Alpha60 Jacket (M)</td>\n",
       "      <td>1</td>\n",
       "    </tr>\n",
       "    <tr>\n",
       "      <th>4</th>\n",
       "      <td>9359335c-8b7d-449f-a2c0-a84477a6f229</td>\n",
       "      <td>1058-17 6725</td>\n",
       "      <td>lofoten Gore-Tex Pro Light Pants (W)</td>\n",
       "      <td>1</td>\n",
       "    </tr>\n",
       "  </tbody>\n",
       "</table>\n",
       "</div>"
      ],
      "text/plain": [
       "                                   user          item  \\\n",
       "0  4a0b96a4-e6a0-41b9-9ecd-7212413c4d9e  2003-18 2295   \n",
       "1  77e6a03c-a222-48bb-8737-6c7bb3572a52  5252-12 2320   \n",
       "2  424d96d4-d592-4c10-9ceb-e2e2774abd6e  1062-17 2335   \n",
       "3  03a116ee-18d5-4968-93f1-ae62d1c35684  1805-17 2345   \n",
       "4  9359335c-8b7d-449f-a2c0-a84477a6f229  1058-17 6725   \n",
       "\n",
       "                                     name  rating  \n",
       "0    lyngen Windstopper hybrid Jacket (M)       1  \n",
       "1                 røldal warm3 Jacket (W)       1  \n",
       "2  lofoten dri1 PrimaLoft170 short Gloves       2  \n",
       "3            falketind Alpha60 Jacket (M)       1  \n",
       "4    lofoten Gore-Tex Pro Light Pants (W)       1  "
      ]
     },
     "execution_count": 4,
     "metadata": {},
     "output_type": "execute_result"
    }
   ],
   "source": [
    "ratings = pd.read_csv('/Users/josse/Git-kode projects/Speciale/Fair-Recommendations/ml-latest-small/norrona_10000_name.csv', sep=',',\n",
    "                      names=['user', 'item', 'name','rating'], header=0)\n",
    "ratings.head()"
   ]
  },
  {
   "cell_type": "code",
   "execution_count": 5,
   "metadata": {},
   "outputs": [],
   "source": [
    "algo_implicitALS = als.ImplicitMF(50)\n",
    "algo_als = als.BiasedMF(50)"
   ]
  },
  {
   "cell_type": "code",
   "execution_count": 6,
   "metadata": {},
   "outputs": [],
   "source": [
    "def eval(aname, algo, train, test):\n",
    "    fittable = util.clone(algo)\n",
    "    fittable = Recommender.adapt(fittable)\n",
    "    fittable.fit(train)\n",
    "    users = test.user.unique()\n",
    "    # now we run the recommender\n",
    "    recs = batch.recommend(fittable, users, 100)\n",
    "    # add the algorithm name for analyzability\n",
    "    recs['Algorithm'] = aname\n",
    "    return recs"
   ]
  },
  {
   "cell_type": "code",
   "execution_count": 7,
   "metadata": {},
   "outputs": [],
   "source": [
    "all_recs = []\n",
    "test_data = []\n",
    "for train, test in xf.partition_users(ratings[['user', 'item', 'rating', 'name']], 2, xf.SampleFrac(0.4)):\n",
    "    test_data.append(test)\n",
    "    all_recs.append(eval('Implicit_ALS', algo_implicitALS, train, test))\n",
    "    all_recs.append(eval('ALS', algo_als, train, test))"
   ]
  },
  {
   "cell_type": "code",
   "execution_count": 8,
   "metadata": {},
   "outputs": [],
   "source": [
    "all_recs = pd.concat(all_recs, ignore_index=True)\n",
    "test_data = pd.concat(test_data, ignore_index=True)"
   ]
  },
  {
   "cell_type": "code",
   "execution_count": 9,
   "metadata": {},
   "outputs": [
    {
     "data": {
      "text/html": [
       "<div>\n",
       "<style scoped>\n",
       "    .dataframe tbody tr th:only-of-type {\n",
       "        vertical-align: middle;\n",
       "    }\n",
       "\n",
       "    .dataframe tbody tr th {\n",
       "        vertical-align: top;\n",
       "    }\n",
       "\n",
       "    .dataframe thead th {\n",
       "        text-align: right;\n",
       "    }\n",
       "</style>\n",
       "<table border=\"1\" class=\"dataframe\">\n",
       "  <thead>\n",
       "    <tr style=\"text-align: right;\">\n",
       "      <th></th>\n",
       "      <th>item</th>\n",
       "      <th>score</th>\n",
       "      <th>user</th>\n",
       "      <th>rank</th>\n",
       "      <th>Algorithm</th>\n",
       "    </tr>\n",
       "  </thead>\n",
       "  <tbody>\n",
       "    <tr>\n",
       "      <th>0</th>\n",
       "      <td>5311-13 5610</td>\n",
       "      <td>0.453949</td>\n",
       "      <td>0275e660-94f8-4186-a43a-583ea327f24a</td>\n",
       "      <td>1</td>\n",
       "      <td>Implicit_ALS</td>\n",
       "    </tr>\n",
       "    <tr>\n",
       "      <th>1</th>\n",
       "      <td>1058-16 7718</td>\n",
       "      <td>0.276982</td>\n",
       "      <td>0275e660-94f8-4186-a43a-583ea327f24a</td>\n",
       "      <td>2</td>\n",
       "      <td>Implicit_ALS</td>\n",
       "    </tr>\n",
       "    <tr>\n",
       "      <th>2</th>\n",
       "      <td>3032-16 6755</td>\n",
       "      <td>0.273706</td>\n",
       "      <td>0275e660-94f8-4186-a43a-583ea327f24a</td>\n",
       "      <td>3</td>\n",
       "      <td>Implicit_ALS</td>\n",
       "    </tr>\n",
       "    <tr>\n",
       "      <th>3</th>\n",
       "      <td>2409-19 8860</td>\n",
       "      <td>0.249205</td>\n",
       "      <td>0275e660-94f8-4186-a43a-583ea327f24a</td>\n",
       "      <td>4</td>\n",
       "      <td>Implicit_ALS</td>\n",
       "    </tr>\n",
       "    <tr>\n",
       "      <th>4</th>\n",
       "      <td>4057-16 8850</td>\n",
       "      <td>0.248626</td>\n",
       "      <td>0275e660-94f8-4186-a43a-583ea327f24a</td>\n",
       "      <td>5</td>\n",
       "      <td>Implicit_ALS</td>\n",
       "    </tr>\n",
       "  </tbody>\n",
       "</table>\n",
       "</div>"
      ],
      "text/plain": [
       "           item     score                                  user  rank  \\\n",
       "0  5311-13 5610  0.453949  0275e660-94f8-4186-a43a-583ea327f24a     1   \n",
       "1  1058-16 7718  0.276982  0275e660-94f8-4186-a43a-583ea327f24a     2   \n",
       "2  3032-16 6755  0.273706  0275e660-94f8-4186-a43a-583ea327f24a     3   \n",
       "3  2409-19 8860  0.249205  0275e660-94f8-4186-a43a-583ea327f24a     4   \n",
       "4  4057-16 8850  0.248626  0275e660-94f8-4186-a43a-583ea327f24a     5   \n",
       "\n",
       "      Algorithm  \n",
       "0  Implicit_ALS  \n",
       "1  Implicit_ALS  \n",
       "2  Implicit_ALS  \n",
       "3  Implicit_ALS  \n",
       "4  Implicit_ALS  "
      ]
     },
     "execution_count": 9,
     "metadata": {},
     "output_type": "execute_result"
    }
   ],
   "source": [
    "all_recs.head()"
   ]
  },
  {
   "cell_type": "code",
   "execution_count": 10,
   "metadata": {},
   "outputs": [
    {
     "name": "stderr",
     "output_type": "stream",
     "text": [
      "C:\\Users\\josse\\Anaconda3\\lib\\site-packages\\pandas\\core\\indexing.py:1472: PerformanceWarning: indexing past lexsort depth may impact performance.\n",
      "  return self._getitem_tuple(key)\n"
     ]
    },
    {
     "data": {
      "text/html": [
       "<div>\n",
       "<style scoped>\n",
       "    .dataframe tbody tr th:only-of-type {\n",
       "        vertical-align: middle;\n",
       "    }\n",
       "\n",
       "    .dataframe tbody tr th {\n",
       "        vertical-align: top;\n",
       "    }\n",
       "\n",
       "    .dataframe thead th {\n",
       "        text-align: right;\n",
       "    }\n",
       "</style>\n",
       "<table border=\"1\" class=\"dataframe\">\n",
       "  <thead>\n",
       "    <tr style=\"text-align: right;\">\n",
       "      <th></th>\n",
       "      <th></th>\n",
       "      <th>ndcg</th>\n",
       "    </tr>\n",
       "    <tr>\n",
       "      <th>user</th>\n",
       "      <th>Algorithm</th>\n",
       "      <th></th>\n",
       "    </tr>\n",
       "  </thead>\n",
       "  <tbody>\n",
       "    <tr>\n",
       "      <th rowspan=\"2\" valign=\"top\">0275e660-94f8-4186-a43a-583ea327f24a</th>\n",
       "      <th>ALS</th>\n",
       "      <td>0.0</td>\n",
       "    </tr>\n",
       "    <tr>\n",
       "      <th>Implicit_ALS</th>\n",
       "      <td>0.0</td>\n",
       "    </tr>\n",
       "    <tr>\n",
       "      <th rowspan=\"2\" valign=\"top\">037a13fb-0851-430c-9d37-0b6340874c45</th>\n",
       "      <th>ALS</th>\n",
       "      <td>0.0</td>\n",
       "    </tr>\n",
       "    <tr>\n",
       "      <th>Implicit_ALS</th>\n",
       "      <td>0.0</td>\n",
       "    </tr>\n",
       "    <tr>\n",
       "      <th>03957f3b-b9af-45e0-825a-986f43615abc</th>\n",
       "      <th>ALS</th>\n",
       "      <td>0.0</td>\n",
       "    </tr>\n",
       "  </tbody>\n",
       "</table>\n",
       "</div>"
      ],
      "text/plain": [
       "                                                   ndcg\n",
       "user                                 Algorithm         \n",
       "0275e660-94f8-4186-a43a-583ea327f24a ALS            0.0\n",
       "                                     Implicit_ALS   0.0\n",
       "037a13fb-0851-430c-9d37-0b6340874c45 ALS            0.0\n",
       "                                     Implicit_ALS   0.0\n",
       "03957f3b-b9af-45e0-825a-986f43615abc ALS            0.0"
      ]
     },
     "execution_count": 10,
     "metadata": {},
     "output_type": "execute_result"
    }
   ],
   "source": [
    "rla = topn.RecListAnalysis()\n",
    "rla.add_metric(topn.ndcg)\n",
    "results = rla.compute(all_recs, test_data)\n",
    "results.head()"
   ]
  },
  {
   "cell_type": "code",
   "execution_count": 11,
   "metadata": {},
   "outputs": [
    {
     "data": {
      "text/plain": [
       "Algorithm\n",
       "ALS             0.023108\n",
       "Implicit_ALS    0.028483\n",
       "Name: ndcg, dtype: float64"
      ]
     },
     "execution_count": 11,
     "metadata": {},
     "output_type": "execute_result"
    }
   ],
   "source": [
    "results.groupby('Algorithm').ndcg.mean()"
   ]
  },
  {
   "cell_type": "code",
   "execution_count": 12,
   "metadata": {},
   "outputs": [
    {
     "name": "stderr",
     "output_type": "stream",
     "text": [
      "C:\\Users\\josse\\Anaconda3\\lib\\site-packages\\ipykernel_launcher.py:3: UserWarning: This pattern has match groups. To actually get the groups, use str.extract.\n",
      "  This is separate from the ipykernel package so we can avoid doing imports until\n"
     ]
    },
    {
     "data": {
      "text/html": [
       "<div>\n",
       "<style scoped>\n",
       "    .dataframe tbody tr th:only-of-type {\n",
       "        vertical-align: middle;\n",
       "    }\n",
       "\n",
       "    .dataframe tbody tr th {\n",
       "        vertical-align: top;\n",
       "    }\n",
       "\n",
       "    .dataframe thead th {\n",
       "        text-align: right;\n",
       "    }\n",
       "</style>\n",
       "<table border=\"1\" class=\"dataframe\">\n",
       "  <thead>\n",
       "    <tr style=\"text-align: right;\">\n",
       "      <th></th>\n",
       "      <th>item</th>\n",
       "      <th>score</th>\n",
       "      <th>user</th>\n",
       "      <th>rank</th>\n",
       "      <th>Algorithm</th>\n",
       "      <th>name</th>\n",
       "      <th>Gender</th>\n",
       "      <th>Female</th>\n",
       "      <th>Male</th>\n",
       "    </tr>\n",
       "  </thead>\n",
       "  <tbody>\n",
       "    <tr>\n",
       "      <th>0</th>\n",
       "      <td>5311-13 5610</td>\n",
       "      <td>0.453949</td>\n",
       "      <td>0275e660-94f8-4186-a43a-583ea327f24a</td>\n",
       "      <td>1</td>\n",
       "      <td>Implicit_ALS</td>\n",
       "      <td>narvik Gore-Tex 2L Pants (M)</td>\n",
       "      <td>Male</td>\n",
       "      <td>0</td>\n",
       "      <td>1</td>\n",
       "    </tr>\n",
       "    <tr>\n",
       "      <th>0</th>\n",
       "      <td>5311-13 5610</td>\n",
       "      <td>0.453949</td>\n",
       "      <td>0275e660-94f8-4186-a43a-583ea327f24a</td>\n",
       "      <td>1</td>\n",
       "      <td>Implicit_ALS</td>\n",
       "      <td>narvik Gore-Tex 2L Pants (M)</td>\n",
       "      <td>Male</td>\n",
       "      <td>0</td>\n",
       "      <td>1</td>\n",
       "    </tr>\n",
       "    <tr>\n",
       "      <th>0</th>\n",
       "      <td>5311-13 5610</td>\n",
       "      <td>0.453949</td>\n",
       "      <td>0275e660-94f8-4186-a43a-583ea327f24a</td>\n",
       "      <td>1</td>\n",
       "      <td>Implicit_ALS</td>\n",
       "      <td>narvik Gore-Tex 2L Pants (M)</td>\n",
       "      <td>Male</td>\n",
       "      <td>0</td>\n",
       "      <td>1</td>\n",
       "    </tr>\n",
       "    <tr>\n",
       "      <th>0</th>\n",
       "      <td>5311-13 5610</td>\n",
       "      <td>0.453949</td>\n",
       "      <td>0275e660-94f8-4186-a43a-583ea327f24a</td>\n",
       "      <td>1</td>\n",
       "      <td>Implicit_ALS</td>\n",
       "      <td>narvik Gore-Tex 2L Pants (M)</td>\n",
       "      <td>Male</td>\n",
       "      <td>0</td>\n",
       "      <td>1</td>\n",
       "    </tr>\n",
       "    <tr>\n",
       "      <th>0</th>\n",
       "      <td>5311-13 5610</td>\n",
       "      <td>0.453949</td>\n",
       "      <td>0275e660-94f8-4186-a43a-583ea327f24a</td>\n",
       "      <td>1</td>\n",
       "      <td>Implicit_ALS</td>\n",
       "      <td>narvik Gore-Tex 2L Pants (M)</td>\n",
       "      <td>Male</td>\n",
       "      <td>0</td>\n",
       "      <td>1</td>\n",
       "    </tr>\n",
       "  </tbody>\n",
       "</table>\n",
       "</div>"
      ],
      "text/plain": [
       "           item     score                                  user  rank  \\\n",
       "0  5311-13 5610  0.453949  0275e660-94f8-4186-a43a-583ea327f24a     1   \n",
       "0  5311-13 5610  0.453949  0275e660-94f8-4186-a43a-583ea327f24a     1   \n",
       "0  5311-13 5610  0.453949  0275e660-94f8-4186-a43a-583ea327f24a     1   \n",
       "0  5311-13 5610  0.453949  0275e660-94f8-4186-a43a-583ea327f24a     1   \n",
       "0  5311-13 5610  0.453949  0275e660-94f8-4186-a43a-583ea327f24a     1   \n",
       "\n",
       "      Algorithm                          name Gender  Female  Male  \n",
       "0  Implicit_ALS  narvik Gore-Tex 2L Pants (M)   Male       0     1  \n",
       "0  Implicit_ALS  narvik Gore-Tex 2L Pants (M)   Male       0     1  \n",
       "0  Implicit_ALS  narvik Gore-Tex 2L Pants (M)   Male       0     1  \n",
       "0  Implicit_ALS  narvik Gore-Tex 2L Pants (M)   Male       0     1  \n",
       "0  Implicit_ALS  narvik Gore-Tex 2L Pants (M)   Male       0     1  "
      ]
     },
     "execution_count": 12,
     "metadata": {},
     "output_type": "execute_result"
    }
   ],
   "source": [
    "#ratings1 = ratings[[\"item\", \"name\"]]\n",
    "all_recs_joined = all_recs.join(ratings[[\"item\", \"name\"]].set_index(\"item\"), on='item')\n",
    "all_recs_joined['Gender'] = np.where(all_recs_joined[\"name\"].str.contains(\"(M)\",case=False, regex=True),\"Male\",\"Female\")\n",
    "dummies = pd.get_dummies(all_recs_joined.Gender)\n",
    "res1 = pd.concat([all_recs_joined, dummies], axis=1)\n",
    "res1.head()"
   ]
  },
  {
   "cell_type": "code",
   "execution_count": null,
   "metadata": {},
   "outputs": [],
   "source": []
  },
  {
   "cell_type": "code",
   "execution_count": 13,
   "metadata": {},
   "outputs": [
    {
     "name": "stdout",
     "output_type": "stream",
     "text": [
      "Male      390972\n",
      "Female    192580\n",
      "Name: Gender, dtype: int64\n",
      "1179\n"
     ]
    },
    {
     "data": {
      "text/plain": [
       "435"
      ]
     },
     "execution_count": 13,
     "metadata": {},
     "output_type": "execute_result"
    }
   ],
   "source": [
    "#res1.groupby('Gender').count()\n",
    "print(res1.Gender.value_counts())\n",
    "print(res1.item.nunique())\n",
    "res2 = res1.loc[res1['Gender'] == \"Female\"]\n",
    "res2.head()\n",
    "res2.item.nunique()\n",
    "#res1.user.nunique()\n",
    "#res1.Gender.nunique()\n",
    "\n",
    "#print(res1.shape[0])\n"
   ]
  },
  {
   "cell_type": "code",
   "execution_count": 14,
   "metadata": {},
   "outputs": [
    {
     "name": "stdout",
     "output_type": "stream",
     "text": [
      "['Female', 'Male']\n"
     ]
    }
   ],
   "source": [
    "res= list(res1.iloc[:,7:])\n",
    "print(res)"
   ]
  },
  {
   "cell_type": "code",
   "execution_count": 15,
   "metadata": {},
   "outputs": [
    {
     "data": {
      "text/html": [
       "<div>\n",
       "<style scoped>\n",
       "    .dataframe tbody tr th:only-of-type {\n",
       "        vertical-align: middle;\n",
       "    }\n",
       "\n",
       "    .dataframe tbody tr th {\n",
       "        vertical-align: top;\n",
       "    }\n",
       "\n",
       "    .dataframe thead th {\n",
       "        text-align: right;\n",
       "    }\n",
       "</style>\n",
       "<table border=\"1\" class=\"dataframe\">\n",
       "  <thead>\n",
       "    <tr style=\"text-align: right;\">\n",
       "      <th></th>\n",
       "      <th></th>\n",
       "      <th>rND</th>\n",
       "      <th>rKL</th>\n",
       "      <th>rRD</th>\n",
       "      <th>div</th>\n",
       "      <th>dem_parity</th>\n",
       "    </tr>\n",
       "    <tr>\n",
       "      <th>user</th>\n",
       "      <th>Algorithm</th>\n",
       "      <th></th>\n",
       "      <th></th>\n",
       "      <th></th>\n",
       "      <th></th>\n",
       "      <th></th>\n",
       "    </tr>\n",
       "  </thead>\n",
       "  <tbody>\n",
       "    <tr>\n",
       "      <th rowspan=\"2\" valign=\"top\">0275e660-94f8-4186-a43a-583ea327f24a</th>\n",
       "      <th>ALS</th>\n",
       "      <td>0.865366</td>\n",
       "      <td>0.808442</td>\n",
       "      <td>1.317978</td>\n",
       "      <td>1.0</td>\n",
       "      <td>0.754979</td>\n",
       "    </tr>\n",
       "    <tr>\n",
       "      <th>Implicit_ALS</th>\n",
       "      <td>0.792541</td>\n",
       "      <td>0.684075</td>\n",
       "      <td>0.923423</td>\n",
       "      <td>1.0</td>\n",
       "      <td>0.380532</td>\n",
       "    </tr>\n",
       "    <tr>\n",
       "      <th rowspan=\"2\" valign=\"top\">037a13fb-0851-430c-9d37-0b6340874c45</th>\n",
       "      <th>ALS</th>\n",
       "      <td>0.773789</td>\n",
       "      <td>0.675893</td>\n",
       "      <td>1.087852</td>\n",
       "      <td>1.0</td>\n",
       "      <td>0.649364</td>\n",
       "    </tr>\n",
       "    <tr>\n",
       "      <th>Implicit_ALS</th>\n",
       "      <td>0.548633</td>\n",
       "      <td>0.450887</td>\n",
       "      <td>0.543308</td>\n",
       "      <td>1.0</td>\n",
       "      <td>0.181829</td>\n",
       "    </tr>\n",
       "    <tr>\n",
       "      <th>03957f3b-b9af-45e0-825a-986f43615abc</th>\n",
       "      <th>ALS</th>\n",
       "      <td>0.638681</td>\n",
       "      <td>0.480889</td>\n",
       "      <td>0.764083</td>\n",
       "      <td>1.0</td>\n",
       "      <td>0.505433</td>\n",
       "    </tr>\n",
       "  </tbody>\n",
       "</table>\n",
       "</div>"
      ],
      "text/plain": [
       "                                                        rND       rKL  \\\n",
       "user                                 Algorithm                          \n",
       "0275e660-94f8-4186-a43a-583ea327f24a ALS           0.865366  0.808442   \n",
       "                                     Implicit_ALS  0.792541  0.684075   \n",
       "037a13fb-0851-430c-9d37-0b6340874c45 ALS           0.773789  0.675893   \n",
       "                                     Implicit_ALS  0.548633  0.450887   \n",
       "03957f3b-b9af-45e0-825a-986f43615abc ALS           0.638681  0.480889   \n",
       "\n",
       "                                                        rRD  div  dem_parity  \n",
       "user                                 Algorithm                                \n",
       "0275e660-94f8-4186-a43a-583ea327f24a ALS           1.317978  1.0    0.754979  \n",
       "                                     Implicit_ALS  0.923423  1.0    0.380532  \n",
       "037a13fb-0851-430c-9d37-0b6340874c45 ALS           1.087852  1.0    0.649364  \n",
       "                                     Implicit_ALS  0.543308  1.0    0.181829  \n",
       "03957f3b-b9af-45e0-825a-986f43615abc ALS           0.764083  1.0    0.505433  "
      ]
     },
     "execution_count": 15,
     "metadata": {},
     "output_type": "execute_result"
    }
   ],
   "source": [
    "\n",
    "\n",
    "rlaFair = topnFair.FairRecListAnalysis(['user', \"Algorithm\"])\n",
    "rlaFair.add_metric(\"rND\")\n",
    "rlaFair.add_metric(\"rKL\")\n",
    "rlaFair.add_metric(\"rRD\")\n",
    "rlaFair.add_metric(\"div\")\n",
    "rlaFair.add_metric(\"dem_parity\")\n",
    "results = rlaFair.compute(res1, test_data, \"Female\", res, res1.item.nunique(),res2.item.nunique())\n",
    "results.head()\n",
    "\n",
    "\n"
   ]
  },
  {
   "cell_type": "code",
   "execution_count": 16,
   "metadata": {},
   "outputs": [
    {
     "data": {
      "text/plain": [
       "<matplotlib.axes._subplots.AxesSubplot at 0x15e00a1fd30>"
      ]
     },
     "execution_count": 16,
     "metadata": {},
     "output_type": "execute_result"
    },
    {
     "data": {
      "image/png": "[encoded data removed]",
      "text/plain": [
       "<Figure size 432x288 with 1 Axes>"
      ]
     },
     "metadata": {
      "needs_background": "light"
     },
     "output_type": "display_data"
    }
   ],
   "source": [
    "results.groupby('Algorithm').rND.mean().plot.bar()"
   ]
  },
  {
   "cell_type": "code",
   "execution_count": 17,
   "metadata": {},
   "outputs": [
    {
     "data": {
      "text/plain": [
       "<matplotlib.axes._subplots.AxesSubplot at 0x15e0cf44198>"
      ]
     },
     "execution_count": 17,
     "metadata": {},
     "output_type": "execute_result"
    },
    {
     "data": {
      "image/png": "[encoded data removed]",
      "text/plain": [
       "<Figure size 432x288 with 1 Axes>"
      ]
     },
     "metadata": {
      "needs_background": "light"
     },
     "output_type": "display_data"
    }
   ],
   "source": [
    "results.groupby('Algorithm').div.mean().plot.bar()"
   ]
  },
  {
   "cell_type": "code",
   "execution_count": null,
   "metadata": {},
   "outputs": [],
   "source": []
  },
  {
   "cell_type": "code",
   "execution_count": null,
   "metadata": {},
   "outputs": [],
   "source": []
  },
  {
   "cell_type": "code",
   "execution_count": null,
   "metadata": {},
   "outputs": [],
   "source": []
  },
  {
   "cell_type": "code",
   "execution_count": null,
   "metadata": {},
   "outputs": [],
   "source": []
  }
 ],
 "metadata": {
  "kernelspec": {
   "display_name": "Python 3",
   "language": "python",
   "name": "python3"
  },
  "language_info": {
   "codemirror_mode": {
    "name": "ipython",
    "version": 3
   },
   "file_extension": ".py",
   "mimetype": "text/x-python",
   "name": "python",
   "nbconvert_exporter": "python",
   "pygments_lexer": "ipython3",
   "version": "3.7.1"
  }
 },
 "nbformat": 4,
 "nbformat_minor": 2
}
