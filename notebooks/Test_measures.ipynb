{
 "cells": [
  {
   "cell_type": "code",
   "execution_count": 1,
   "metadata": {},
   "outputs": [],
   "source": [
    "import os,sys,inspect\n",
    "currentdir = os.path.dirname(os.path.abspath(inspect.getfile(inspect.currentframe())))\n",
    "parentdir = os.path.dirname(currentdir)\n",
    "# Add parent dir to path, so that python finds the lenskit package\n",
    "sys.path.insert(0,parentdir)"
   ]
  },
  {
   "cell_type": "code",
   "execution_count": 2,
   "metadata": {},
   "outputs": [],
   "source": [
    "from lenskit.metrics import dataGenerator\n",
    "from lenskit import batch, topn, util, topnFair\n",
    "from lenskit import crossfold as xf\n",
    "from lenskit.algorithms import Recommender, als, user_knn as knn"
   ]
  },
  {
   "cell_type": "code",
   "execution_count": 3,
   "metadata": {},
   "outputs": [],
   "source": [
    "import numpy as np\n",
    "import pandas as pd\n",
    "import math\n",
    "%matplotlib inline"
   ]
  },
  {
   "cell_type": "code",
   "execution_count": 4,
   "metadata": {},
   "outputs": [
    {
     "name": "stdout",
     "output_type": "stream",
     "text": [
      "    item  user  rank  protected providers\n",
      "1      1     1     1          0         a\n",
      "2      2     1     2          0         b\n",
      "3      3     1     3          0         c\n",
      "4      4     1     4          1         c\n",
      "5      5     1     5          0         c\n",
      "6      6     1     6          0         c\n",
      "7      7     1     7          0         c\n",
      "8      8     1     8          0         c\n",
      "9      9     1     9          1         c\n",
      "10    10     1    10          1         c\n"
     ]
    }
   ],
   "source": [
    "index=range(1,11)\n",
    "#col_names1 = [\"item\", 'user']\n",
    "col_names =  ['item', 'user', 'rank', 'protected', 'providers']\n",
    "my_df  = pd.DataFrame(index = index, columns = col_names)\n",
    "\n",
    "my_df[\"item\"] = np.arange(1,11)\n",
    "my_df[\"user\"] = [1,1,1,1,1,1,1,1,1,1]\n",
    "my_df[\"rank\"] = np.arange(1,11)\n",
    "my_df[\"protected\"] = [0,0,0,1,0,0,0,0,1,1]\n",
    "my_df[\"providers\"] = ['a', 'b', 'c', 'c', 'c', 'c', 'c', 'c', 'c', 'c']\n",
    "\n",
    "\n",
    "print(my_df)\n",
    "\n",
    "                         \n",
    "#data = np.array([np.arange(10)], [np.arange(10)])\n",
    "#data.head"
   ]
  },
  {
   "cell_type": "code",
   "execution_count": 5,
   "metadata": {},
   "outputs": [
    {
     "data": {
      "text/html": [
       "<div>\n",
       "<style scoped>\n",
       "    .dataframe tbody tr th:only-of-type {\n",
       "        vertical-align: middle;\n",
       "    }\n",
       "\n",
       "    .dataframe tbody tr th {\n",
       "        vertical-align: top;\n",
       "    }\n",
       "\n",
       "    .dataframe thead th {\n",
       "        text-align: right;\n",
       "    }\n",
       "</style>\n",
       "<table border=\"1\" class=\"dataframe\">\n",
       "  <thead>\n",
       "    <tr style=\"text-align: right;\">\n",
       "      <th></th>\n",
       "      <th>item</th>\n",
       "      <th>user</th>\n",
       "      <th>rank</th>\n",
       "      <th>protected</th>\n",
       "      <th>providers</th>\n",
       "      <th>a</th>\n",
       "      <th>b</th>\n",
       "      <th>c</th>\n",
       "    </tr>\n",
       "  </thead>\n",
       "  <tbody>\n",
       "    <tr>\n",
       "      <th>1</th>\n",
       "      <td>1</td>\n",
       "      <td>1</td>\n",
       "      <td>1</td>\n",
       "      <td>0</td>\n",
       "      <td>a</td>\n",
       "      <td>1</td>\n",
       "      <td>0</td>\n",
       "      <td>0</td>\n",
       "    </tr>\n",
       "    <tr>\n",
       "      <th>2</th>\n",
       "      <td>2</td>\n",
       "      <td>1</td>\n",
       "      <td>2</td>\n",
       "      <td>0</td>\n",
       "      <td>b</td>\n",
       "      <td>0</td>\n",
       "      <td>1</td>\n",
       "      <td>0</td>\n",
       "    </tr>\n",
       "    <tr>\n",
       "      <th>3</th>\n",
       "      <td>3</td>\n",
       "      <td>1</td>\n",
       "      <td>3</td>\n",
       "      <td>0</td>\n",
       "      <td>c</td>\n",
       "      <td>0</td>\n",
       "      <td>0</td>\n",
       "      <td>1</td>\n",
       "    </tr>\n",
       "    <tr>\n",
       "      <th>4</th>\n",
       "      <td>4</td>\n",
       "      <td>1</td>\n",
       "      <td>4</td>\n",
       "      <td>1</td>\n",
       "      <td>c</td>\n",
       "      <td>0</td>\n",
       "      <td>0</td>\n",
       "      <td>1</td>\n",
       "    </tr>\n",
       "    <tr>\n",
       "      <th>5</th>\n",
       "      <td>5</td>\n",
       "      <td>1</td>\n",
       "      <td>5</td>\n",
       "      <td>0</td>\n",
       "      <td>c</td>\n",
       "      <td>0</td>\n",
       "      <td>0</td>\n",
       "      <td>1</td>\n",
       "    </tr>\n",
       "  </tbody>\n",
       "</table>\n",
       "</div>"
      ],
      "text/plain": [
       "   item  user  rank  protected providers  a  b  c\n",
       "1     1     1     1          0         a  1  0  0\n",
       "2     2     1     2          0         b  0  1  0\n",
       "3     3     1     3          0         c  0  0  1\n",
       "4     4     1     4          1         c  0  0  1\n",
       "5     5     1     5          0         c  0  0  1"
      ]
     },
     "execution_count": 5,
     "metadata": {},
     "output_type": "execute_result"
    }
   ],
   "source": [
    "items_dummy = pd.concat([my_df, my_df['providers'].str.get_dummies()], axis=1)\n",
    "items_dummy.head()"
   ]
  },
  {
   "cell_type": "code",
   "execution_count": 6,
   "metadata": {
    "scrolled": true
   },
   "outputs": [
    {
     "name": "stdout",
     "output_type": "stream",
     "text": [
      "res1:\n",
      "10\n",
      "res2:\n",
      "3\n",
      "res3:\n",
      "['a', 'b', 'c']\n"
     ]
    },
    {
     "data": {
      "text/html": [
       "<div>\n",
       "<style scoped>\n",
       "    .dataframe tbody tr th:only-of-type {\n",
       "        vertical-align: middle;\n",
       "    }\n",
       "\n",
       "    .dataframe tbody tr th {\n",
       "        vertical-align: top;\n",
       "    }\n",
       "\n",
       "    .dataframe thead th {\n",
       "        text-align: right;\n",
       "    }\n",
       "</style>\n",
       "<table border=\"1\" class=\"dataframe\">\n",
       "  <thead>\n",
       "    <tr style=\"text-align: right;\">\n",
       "      <th></th>\n",
       "      <th>div</th>\n",
       "    </tr>\n",
       "    <tr>\n",
       "      <th>user</th>\n",
       "      <th></th>\n",
       "    </tr>\n",
       "  </thead>\n",
       "  <tbody>\n",
       "    <tr>\n",
       "      <th>1</th>\n",
       "      <td>1.0</td>\n",
       "    </tr>\n",
       "  </tbody>\n",
       "</table>\n",
       "</div>"
      ],
      "text/plain": [
       "      div\n",
       "user     \n",
       "1     1.0"
      ]
     },
     "execution_count": 6,
     "metadata": {},
     "output_type": "execute_result"
    }
   ],
   "source": [
    "res1= items_dummy.item.nunique()\n",
    "print('res1:')\n",
    "print(res1)\n",
    "res2 =  items_dummy.loc[my_df['protected'] == 1]\n",
    "print('res2:')\n",
    "print(res2.item.nunique())\n",
    "res3 = list(items_dummy.iloc[:,5:])\n",
    "print('res3:')\n",
    "print(res3)\n",
    "\n",
    "rla = topnFair.FairRecListAnalysis(['user'])\n",
    "#rla.add_metric(\"rND\")\n",
    "#rla.add_metric(\"rKL\")\n",
    "#rla.add_metric(\"rRD\")\n",
    "rla.add_metric(\"APCR\")\n",
    "#rla.add_metric(\"dem_parity\")\n",
    "results = rla.compute(items_dummy, my_df, 'protected', res3, items_N=res1, proItems_N=res2.item.nunique())\n",
    "results.head()"
   ]
  },
  {
   "cell_type": "code",
   "execution_count": 7,
   "metadata": {},
   "outputs": [
    {
     "data": {
      "text/plain": [
       "0.28976236782221787"
      ]
     },
     "execution_count": 7,
     "metadata": {},
     "output_type": "execute_result"
    }
   ],
   "source": [
    "#test:[0,0,0,1,0,0,0,0,1,1] non-protected\n",
    "dmp_non_protected = (1/math.log2(1+1)) + (1/math.log2(1+2)) + (1/math.log2(1+3)) + (1/math.log2(1+5)) + (1/math.log2(1+6)) + (1/math.log2(1+7)) + (1/math.log2(1+8))\n",
    "\n",
    "\n",
    "#test:[0,0,0,1,0,0,0,0,1,1] \n",
    "dmp_protected = (1/math.log2(1+4)) + (1/math.log2(1+9)) + (1/math.log2(1+10))\n",
    "\n",
    "dmp_protected/dmp_non_protected"
   ]
  },
  {
   "cell_type": "code",
   "execution_count": null,
   "metadata": {},
   "outputs": [],
   "source": []
  },
  {
   "cell_type": "code",
   "execution_count": null,
   "metadata": {},
   "outputs": [],
   "source": []
  },
  {
   "cell_type": "code",
   "execution_count": null,
   "metadata": {},
   "outputs": [],
   "source": []
  },
  {
   "cell_type": "code",
   "execution_count": null,
   "metadata": {},
   "outputs": [],
   "source": [
    "      "
   ]
  },
  {
   "cell_type": "code",
   "execution_count": 8,
   "metadata": {},
   "outputs": [
    {
     "name": "stdout",
     "output_type": "stream",
     "text": [
      "0.052932501298081136\n",
      "0.015300924294301195\n"
     ]
    }
   ],
   "source": [
    "#test rKL for my_df[\"protected\"] = [0,0,0,0,0,0,0,0,0,1,0,0,0,0,0,0,0,1,1,1] 1/10 vs 4/20\n",
    "\n",
    "px= 1/10\n",
    "qx=4/20\n",
    "\n",
    "rkl =(px*math.log(px/qx,2))+(1-px)*math.log((1-px)/(1-qx),2)\n",
    "\n",
    "print(rkl)\n",
    "print(rkl/math.log(11,2))"
   ]
  },
  {
   "cell_type": "code",
   "execution_count": 9,
   "metadata": {},
   "outputs": [
    {
     "name": "stdout",
     "output_type": "stream",
     "text": [
      "0.143765260709031\n",
      "0.04155748011740191\n"
     ]
    }
   ],
   "source": [
    "#test rKL for my_df[\"protected\"] = [0,0,0,0,0,0,0,0,0,0,0,0,0,0,0,0,0,0,1,1] 0/10 vs 2/20\n",
    "# corner case -- px cant be 0 thus set manuale to 0,001\n",
    "\n",
    "#px= 0/10 - px cant be 0 thus set manuale to 0,001\n",
    "px = 0.001\n",
    "qx=2/20\n",
    "\n",
    "rkl2 =(px*math.log(px/qx,2))+(1-px)*math.log((1-px)/(1-qx),2)\n",
    "\n",
    "print(rkl2)\n",
    "print(rkl2/math.log(11,2))"
   ]
  },
  {
   "cell_type": "code",
   "execution_count": null,
   "metadata": {},
   "outputs": [],
   "source": []
  },
  {
   "cell_type": "code",
   "execution_count": null,
   "metadata": {},
   "outputs": [],
   "source": []
  }
 ],
 "metadata": {
  "kernelspec": {
   "display_name": "Python 3",
   "language": "python",
   "name": "python3"
  },
  "language_info": {
   "codemirror_mode": {
    "name": "ipython",
    "version": 3
   },
   "file_extension": ".py",
   "mimetype": "text/x-python",
   "name": "python",
   "nbconvert_exporter": "python",
   "pygments_lexer": "ipython3",
   "version": "3.7.1"
  }
 },
 "nbformat": 4,
 "nbformat_minor": 2
}
