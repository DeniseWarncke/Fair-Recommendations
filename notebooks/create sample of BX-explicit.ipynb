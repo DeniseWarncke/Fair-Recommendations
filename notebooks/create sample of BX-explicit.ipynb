{
 "cells": [
  {
   "cell_type": "code",
   "execution_count": 1,
   "metadata": {},
   "outputs": [],
   "source": [
    "import os,sys,inspect\n",
    "currentdir = os.path.dirname(os.path.abspath(inspect.getfile(inspect.currentframe())))\n",
    "parentdir = os.path.dirname(currentdir)\n",
    "# Add parent dir to path, so that python finds the lenskit package\n",
    "sys.path.insert(0,parentdir)"
   ]
  },
  {
   "cell_type": "code",
   "execution_count": 2,
   "metadata": {},
   "outputs": [],
   "source": [
    "from lenskit.metrics import dataGenerator\n",
    "from lenskit import batch, topn, util, topnFair\n",
    "from lenskit import crossfold as xf\n",
    "from lenskit.algorithms import Recommender, als, funksvd, user_knn as uknn, item_knn as iknn \n",
    "from lenskit import topn, topnFair"
   ]
  },
  {
   "cell_type": "code",
   "execution_count": 3,
   "metadata": {},
   "outputs": [],
   "source": [
    "import numpy as np\n",
    "import pandas as pd\n",
    "import math\n",
    "import pickle\n",
    "%matplotlib inline"
   ]
  },
  {
   "cell_type": "code",
   "execution_count": 4,
   "metadata": {},
   "outputs": [],
   "source": [
    "dataset = os.path.join(parentdir,'book_data/ratings.csv')     \n",
    "ratings = pd.read_csv(dataset, sep=',',\n",
    "                      names=['user', 'item', 'rating'], header=0)\n",
    "\n",
    "data = os.path.join(parentdir,'book_data/book_author_gender.csv')\n",
    "\n",
    "items = pd.read_csv(data, sep=',',\n",
    "                      names=['item','gender'], header=0)"
   ]
  },
  {
   "cell_type": "code",
   "execution_count": 5,
   "metadata": {},
   "outputs": [
    {
     "data": {
      "text/html": [
       "<div>\n",
       "<style scoped>\n",
       "    .dataframe tbody tr th:only-of-type {\n",
       "        vertical-align: middle;\n",
       "    }\n",
       "\n",
       "    .dataframe tbody tr th {\n",
       "        vertical-align: top;\n",
       "    }\n",
       "\n",
       "    .dataframe thead th {\n",
       "        text-align: right;\n",
       "    }\n",
       "</style>\n",
       "<table border=\"1\" class=\"dataframe\">\n",
       "  <thead>\n",
       "    <tr style=\"text-align: right;\">\n",
       "      <th></th>\n",
       "      <th>user</th>\n",
       "      <th>item</th>\n",
       "      <th>rating</th>\n",
       "    </tr>\n",
       "  </thead>\n",
       "  <tbody>\n",
       "    <tr>\n",
       "      <th>0</th>\n",
       "      <td>156050</td>\n",
       "      <td>102337377</td>\n",
       "      <td>8.0</td>\n",
       "    </tr>\n",
       "    <tr>\n",
       "      <th>1</th>\n",
       "      <td>102032</td>\n",
       "      <td>107971879</td>\n",
       "      <td>5.0</td>\n",
       "    </tr>\n",
       "    <tr>\n",
       "      <th>2</th>\n",
       "      <td>14422</td>\n",
       "      <td>104568501</td>\n",
       "      <td>9.0</td>\n",
       "    </tr>\n",
       "    <tr>\n",
       "      <th>3</th>\n",
       "      <td>122037</td>\n",
       "      <td>101204681</td>\n",
       "      <td>8.0</td>\n",
       "    </tr>\n",
       "    <tr>\n",
       "      <th>4</th>\n",
       "      <td>109864</td>\n",
       "      <td>919256170</td>\n",
       "      <td>7.0</td>\n",
       "    </tr>\n",
       "  </tbody>\n",
       "</table>\n",
       "</div>"
      ],
      "text/plain": [
       "     user       item  rating\n",
       "0  156050  102337377     8.0\n",
       "1  102032  107971879     5.0\n",
       "2   14422  104568501     9.0\n",
       "3  122037  101204681     8.0\n",
       "4  109864  919256170     7.0"
      ]
     },
     "execution_count": 5,
     "metadata": {},
     "output_type": "execute_result"
    }
   ],
   "source": [
    "ratings.head()\n"
   ]
  },
  {
   "cell_type": "code",
   "execution_count": 6,
   "metadata": {},
   "outputs": [
    {
     "name": "stdout",
     "output_type": "stream",
     "text": [
      "(4251558, 2)\n"
     ]
    },
    {
     "data": {
      "text/html": [
       "<div>\n",
       "<style scoped>\n",
       "    .dataframe tbody tr th:only-of-type {\n",
       "        vertical-align: middle;\n",
       "    }\n",
       "\n",
       "    .dataframe tbody tr th {\n",
       "        vertical-align: top;\n",
       "    }\n",
       "\n",
       "    .dataframe thead th {\n",
       "        text-align: right;\n",
       "    }\n",
       "</style>\n",
       "<table border=\"1\" class=\"dataframe\">\n",
       "  <thead>\n",
       "    <tr style=\"text-align: right;\">\n",
       "      <th></th>\n",
       "      <th>item</th>\n",
       "      <th>gender</th>\n",
       "    </tr>\n",
       "  </thead>\n",
       "  <tbody>\n",
       "    <tr>\n",
       "      <th>0</th>\n",
       "      <td>113484902</td>\n",
       "      <td>male</td>\n",
       "    </tr>\n",
       "    <tr>\n",
       "      <th>1</th>\n",
       "      <td>100940351</td>\n",
       "      <td>male</td>\n",
       "    </tr>\n",
       "    <tr>\n",
       "      <th>2</th>\n",
       "      <td>104633344</td>\n",
       "      <td>female</td>\n",
       "    </tr>\n",
       "    <tr>\n",
       "      <th>3</th>\n",
       "      <td>202193849</td>\n",
       "      <td>male</td>\n",
       "    </tr>\n",
       "    <tr>\n",
       "      <th>4</th>\n",
       "      <td>101354697</td>\n",
       "      <td>male</td>\n",
       "    </tr>\n",
       "  </tbody>\n",
       "</table>\n",
       "</div>"
      ],
      "text/plain": [
       "        item  gender\n",
       "0  113484902    male\n",
       "1  100940351    male\n",
       "2  104633344  female\n",
       "3  202193849    male\n",
       "4  101354697    male"
      ]
     },
     "execution_count": 6,
     "metadata": {},
     "output_type": "execute_result"
    }
   ],
   "source": [
    "items = items.loc[(items[\"gender\"] == \"male\") | (items[\"gender\"] == \"female\")]\n",
    "items = items.reset_index(drop=\"true\")\n",
    "print(items.shape)\n",
    "items.head()"
   ]
  },
  {
   "cell_type": "code",
   "execution_count": 7,
   "metadata": {},
   "outputs": [],
   "source": [
    "ratings_joined =  pd.merge(ratings, items.set_index('item'),how=\"inner\", on='item')"
   ]
  },
  {
   "cell_type": "code",
   "execution_count": 8,
   "metadata": {},
   "outputs": [
    {
     "data": {
      "text/plain": [
       "(319988, 4)"
      ]
     },
     "execution_count": 8,
     "metadata": {},
     "output_type": "execute_result"
    }
   ],
   "source": [
    "ratings_joined.shape"
   ]
  },
  {
   "cell_type": "code",
   "execution_count": 9,
   "metadata": {},
   "outputs": [],
   "source": [
    "#rateditems = ratings.item.unique()\n",
    "#rateditems = pd.DataFrame(rateditems, columns =['item'])\n",
    "#rateditems = pd.merge(items.set_index('item'), on='item', how=\"inner\"  )\n",
    "#rateditems = pd.merge(rateditems, items.set_index('item'),how=\"inner\", on='item')\n",
    "#print(rateditems.shape)\n",
    "#rateditems = rateditems.dropna()\n",
    "#print(rateditems.shape)\n",
    "#rateditems.head()\n",
    "\n",
    "\n"
   ]
  },
  {
   "cell_type": "code",
   "execution_count": 46,
   "metadata": {},
   "outputs": [],
   "source": [
    "def create_sample( data, user_cut, item_cut):\n",
    "\n",
    "    temp_user = data.groupby('user').item.count().to_frame('count').reset_index()\n",
    "    temp_user = temp_user.sort_values(\"count\", ascending=False)\n",
    "    #temp.columns = [1,2]\n",
    "    temp_user = temp_user[temp_user[\"count\"] >= user_cut]\n",
    "    #print(temp.head())\n",
    "    print(temp_user.shape)\n",
    "    #df.loc[df['column_name'].isin(some_values)]\n",
    "    temp_user = data.loc[data[\"user\"].isin(temp_user.user)]\n",
    "    \n",
    "    temp_item = data.groupby('item').user.count().to_frame('count').reset_index()\n",
    "    temp_item = temp_item.sort_values(\"count\", ascending=False)\n",
    "    #temp.columns = [1,2]\n",
    "    temp_item = temp_item[temp_item[\"count\"] >= item_cut]\n",
    "    #print(temp.head())\n",
    "    print(temp_user.shape)\n",
    "    #df.loc[df['column_name'].isin(some_values)]\n",
    "    \n",
    "    temp_item = data.loc[data[\"item\"].isin(temp_item.item)]\n",
    "    \n",
    "    toreturn = pd.merge(temp_user, temp_item, on=\"item\",  how=\"inner\")\n",
    "\n",
    "return(toreturn)\n",
    "#ratings.groupby('user').item.count()"
   ]
  },
  {
   "cell_type": "code",
   "execution_count": 88,
   "metadata": {},
   "outputs": [
    {
     "name": "stdout",
     "output_type": "stream",
     "text": [
      "(2746, 2)\n",
      "(165889, 4)\n"
     ]
    },
    {
     "data": {
      "text/plain": [
       "1296"
      ]
     },
     "execution_count": 88,
     "metadata": {},
     "output_type": "execute_result"
    }
   ],
   "source": [
    "res = create_sample(ratings_joined, 20, 30)\n",
    "res.item.nunique()"
   ]
  },
  {
   "cell_type": "code",
   "execution_count": 52,
   "metadata": {},
   "outputs": [
    {
     "data": {
      "text/plain": [
       "1296"
      ]
     },
     "execution_count": 52,
     "metadata": {},
     "output_type": "execute_result"
    }
   ],
   "source": [
    "res.item.nunique()"
   ]
  },
  {
   "cell_type": "code",
   "execution_count": 89,
   "metadata": {},
   "outputs": [],
   "source": [
    "def create_sample_user( data, user_cut, item_frac):\n",
    "\n",
    "    temp_user = data.groupby('user').item.count().to_frame('count').reset_index()\n",
    "    temp_user = temp_user.sort_values(\"count\", ascending=False)\n",
    "    #temp.columns = [1,2]\n",
    "    temp_user = temp_user[temp_user[\"count\"] >= user_cut]\n",
    "    #print(temp.head())\n",
    "    print(temp_user.shape)\n",
    "    #df.loc[df['column_name'].isin(some_values)]\n",
    "    temp_user = data.loc[data[\"user\"].isin(temp_user.user)]\n",
    "   \n",
    "    temp_item = data.item.sample(frac=item_frac)\n",
    "    print(temp_item.shape) \n",
    "    temp_item = data.loc[data[\"item\"].isin(temp_item)]\n",
    "    \n",
    "    toreturn = pd.merge(temp_user, temp_item, on=\"item\",  how=\"inner\")\n",
    "\n",
    "    return(toreturn)\n",
    "\n",
    "\n"
   ]
  },
  {
   "cell_type": "code",
   "execution_count": 91,
   "metadata": {},
   "outputs": [
    {
     "name": "stdout",
     "output_type": "stream",
     "text": [
      "(2746, 2)\n",
      "(1600,)\n"
     ]
    },
    {
     "data": {
      "text/plain": [
       "1290"
      ]
     },
     "execution_count": 91,
     "metadata": {},
     "output_type": "execute_result"
    }
   ],
   "source": [
    "res = create_sample_user(ratings_joined, 20, 0.005)\n",
    "res.item.nunique()"
   ]
  },
  {
   "cell_type": "code",
   "execution_count": null,
   "metadata": {},
   "outputs": [],
   "source": [
    "68102"
   ]
  }
 ],
 "metadata": {
  "kernelspec": {
   "display_name": "Python 3",
   "language": "python",
   "name": "python3"
  },
  "language_info": {
   "codemirror_mode": {
    "name": "ipython",
    "version": 3
   },
   "file_extension": ".py",
   "mimetype": "text/x-python",
   "name": "python",
   "nbconvert_exporter": "python",
   "pygments_lexer": "ipython3",
   "version": "3.7.1"
  }
 },
 "nbformat": 4,
 "nbformat_minor": 2
}
