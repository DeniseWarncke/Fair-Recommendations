{
 "cells": [
  {
   "cell_type": "code",
   "execution_count": 1,
   "metadata": {},
   "outputs": [],
   "source": [
    "import os,sys,inspect\n",
    "currentdir = os.path.dirname(os.path.abspath(inspect.getfile(inspect.currentframe())))\n",
    "parentdir = os.path.dirname(currentdir)\n",
    "# Add parent dir to path, so that python finds the lenskit package\n",
    "sys.path.insert(0,parentdir)"
   ]
  },
  {
   "cell_type": "code",
   "execution_count": 2,
   "metadata": {},
   "outputs": [],
   "source": [
    "from lenskit.metrics import dataGenerator\n",
    "from lenskit.metrics import topnFair\n",
    "from lenskit import batch, topn, util, topnFair\n",
    "from lenskit import crossfold as xf\n",
    "from lenskit.algorithms import Recommender, als, user_knn as knn"
   ]
  },
  {
   "cell_type": "code",
   "execution_count": 3,
   "metadata": {},
   "outputs": [],
   "source": [
    "import numpy as np\n",
    "import pandas as pd\n",
    "import math\n",
    "%matplotlib inline"
   ]
  },
  {
   "cell_type": "code",
   "execution_count": 4,
   "metadata": {},
   "outputs": [
    {
     "name": "stdout",
     "output_type": "stream",
     "text": [
      "    item  user  rank  protected\n",
      "0      0     1     0          0\n",
      "1      1     1     1          0\n",
      "2      2     1     2          0\n",
      "3      3     1     3          0\n",
      "4      4     1     4          0\n",
      "5      5     1     5          0\n",
      "6      6     1     6          0\n",
      "7      7     1     7          0\n",
      "8      8     1     8          0\n",
      "9      9     1     9          0\n",
      "10    10     1    10          0\n",
      "11    11     1    11          0\n",
      "12    12     1    12          0\n",
      "13    13     1    13          0\n",
      "14    14     1    14          0\n",
      "15    15     1    15          0\n",
      "16    16     1    16          0\n",
      "17    17     1    17          0\n",
      "18    18     1    18          1\n",
      "19    19     1    19          1\n"
     ]
    }
   ],
   "source": [
    "index=range(0,20)\n",
    "#col_names1 = [\"item\", 'user']\n",
    "col_names =  ['item', 'user', 'rank', 'protected']\n",
    "my_df  = pd.DataFrame(index = index, columns = col_names)\n",
    "\n",
    "my_df[\"item\"] = np.arange(20)\n",
    "my_df[\"user\"] = [1,1,1,1,1,1,1,1,1,1,1,1,1,1,1,1,1,1,1,1]\n",
    "my_df[\"rank\"] = np.arange(20)\n",
    "my_df[\"protected\"] = [0,0,0,0,0,0,0,0,0,0,0,0,0,0,0,0,0,0,1,1]\n",
    "\n",
    "\n",
    "print(my_df)\n",
    "\n",
    "                         \n",
    "#data = np.array([np.arange(10)], [np.arange(10)])\n",
    "#data.head"
   ]
  },
  {
   "cell_type": "code",
   "execution_count": 5,
   "metadata": {},
   "outputs": [
    {
     "name": "stdout",
     "output_type": "stream",
     "text": [
      "20\n",
      "2\n"
     ]
    },
    {
     "data": {
      "text/html": [
       "<div>\n",
       "<style scoped>\n",
       "    .dataframe tbody tr th:only-of-type {\n",
       "        vertical-align: middle;\n",
       "    }\n",
       "\n",
       "    .dataframe tbody tr th {\n",
       "        vertical-align: top;\n",
       "    }\n",
       "\n",
       "    .dataframe thead th {\n",
       "        text-align: right;\n",
       "    }\n",
       "</style>\n",
       "<table border=\"1\" class=\"dataframe\">\n",
       "  <thead>\n",
       "    <tr style=\"text-align: right;\">\n",
       "      <th></th>\n",
       "      <th>rND</th>\n",
       "      <th>rKL</th>\n",
       "      <th>rRD</th>\n",
       "    </tr>\n",
       "    <tr>\n",
       "      <th>user</th>\n",
       "      <th></th>\n",
       "      <th></th>\n",
       "      <th></th>\n",
       "    </tr>\n",
       "  </thead>\n",
       "  <tbody>\n",
       "    <tr>\n",
       "      <th>1</th>\n",
       "      <td>0.028906</td>\n",
       "      <td>0.041557</td>\n",
       "      <td>0.032118</td>\n",
       "    </tr>\n",
       "  </tbody>\n",
       "</table>\n",
       "</div>"
      ],
      "text/plain": [
       "           rND       rKL       rRD\n",
       "user                              \n",
       "1     0.028906  0.041557  0.032118"
      ]
     },
     "execution_count": 5,
     "metadata": {},
     "output_type": "execute_result"
    }
   ],
   "source": [
    "res1= my_df.item.nunique()\n",
    "print(res1)\n",
    "res2 =  my_df.loc[my_df['protected'] == 1]\n",
    "print(res2.item.nunique())\n",
    "\n",
    "\n",
    "rla = topnFair.FairRecListAnalysis(['user'])\n",
    "rla.add_metric(\"rND\")\n",
    "rla.add_metric(\"rKL\")\n",
    "rla.add_metric(\"rRD\")\n",
    "results = rla.compute(my_df, my_df, 'protected', items_N=res1, proItems_N=res2.item.nunique())\n",
    "results.head()"
   ]
  },
  {
   "cell_type": "code",
   "execution_count": 6,
   "metadata": {},
   "outputs": [
    {
     "data": {
      "text/plain": [
       "0.02890648263178878"
      ]
     },
     "execution_count": 6,
     "metadata": {},
     "output_type": "execute_result"
    }
   ],
   "source": [
    "#test rND for my_df = [0,0,0,0,0,0,0,0,0,0,0,0,0,0,0,0,0,0,1,1] 0/10 vs 2/20 \n",
    "dif = abs((0/10)-(2/20)) \n",
    "rnd = (dif/math.log(10+1,2)+(0/math.log(20+1,2))) \n",
    "rnd       \n"
   ]
  },
  {
   "cell_type": "code",
   "execution_count": 7,
   "metadata": {},
   "outputs": [
    {
     "data": {
      "text/plain": [
       "0.02890648263178878"
      ]
     },
     "execution_count": 7,
     "metadata": {},
     "output_type": "execute_result"
    }
   ],
   "source": [
    "#test rND for my_df = [0,0,0,0,0,0,0,0,1,0,0,0,0,0,0,0,0,1,1,1] 1/10 vs 4/20 \n",
    "dif1 = abs((1/10)-(4/20))\n",
    "\n",
    "rnd1 = (dif1/math.log(10+1,2)+(0/math.log(20+1,2))) \n",
    "rnd1       "
   ]
  },
  {
   "cell_type": "code",
   "execution_count": 8,
   "metadata": {},
   "outputs": [
    {
     "data": {
      "text/plain": [
       "0.032118314035320866"
      ]
     },
     "execution_count": 8,
     "metadata": {},
     "output_type": "execute_result"
    }
   ],
   "source": [
    "#test rRD for my_df = [0,0,0,0,0,0,0,0,0,0,0,0,0,0,0,0,0,0,1,1] 0/10 vs 2/20 \n",
    "\n",
    "ratio1 = 0/10\n",
    "ratio2 = 2/18\n",
    "dif = abs(ratio1-ratio2)\n",
    "rrd = (dif/math.log(10+1,2)+(0/math.log(20+1,2))) \n",
    "rrd       "
   ]
  },
  {
   "cell_type": "code",
   "execution_count": 9,
   "metadata": {},
   "outputs": [
    {
     "name": "stdout",
     "output_type": "stream",
     "text": [
      "0.03211831403532086\n"
     ]
    },
    {
     "data": {
      "text/plain": [
       "1.0000000000000002"
      ]
     },
     "execution_count": 9,
     "metadata": {},
     "output_type": "execute_result"
    }
   ],
   "source": [
    "print(topnFair.getNormalizer(20,2,\"rRD\"))\n",
    "nrRD = rrd/topnFair.getNormalizer(20,2,\"rRD\")\n",
    "nrRD\n"
   ]
  },
  {
   "cell_type": "code",
   "execution_count": 10,
   "metadata": {},
   "outputs": [
    {
     "data": {
      "text/plain": [
       "0.0"
      ]
     },
     "execution_count": 10,
     "metadata": {},
     "output_type": "execute_result"
    }
   ],
   "source": [
    "#test rRD for my_df = [0,0,0,0,0,0,0,1,1,0,0,0,0,0,0,0,0,0,1,1] 2/10 vs 4/20 \n",
    "\n",
    "ratio1 =  2/8\n",
    "ratio2 = 4/16\n",
    "dif = abs(ratio1-ratio2)\n",
    "rrd = (dif/math.log(10+1,2)+(0/math.log(20+1,2))) \n",
    "rrd       "
   ]
  },
  {
   "cell_type": "code",
   "execution_count": 11,
   "metadata": {},
   "outputs": [
    {
     "data": {
      "text/plain": [
       "0.04014789254415109"
      ]
     },
     "execution_count": 11,
     "metadata": {},
     "output_type": "execute_result"
    }
   ],
   "source": [
    "#test rRD for my_df = [0,0,0,0,0,0,0,0,0,1,0,0,0,0,0,0,0,1,1,1] 1/10 vs 4/20 \n",
    "\n",
    "ratio1 = 1/9\n",
    "ratio2 = 4/16\n",
    "dif = abs(ratio1-ratio2)\n",
    "rrd = (dif/math.log(10+1,2)+(0/math.log(20+1,2))) \n",
    "rrd       "
   ]
  },
  {
   "cell_type": "code",
   "execution_count": 17,
   "metadata": {},
   "outputs": [
    {
     "data": {
      "text/plain": [
       "0.0"
      ]
     },
     "execution_count": 17,
     "metadata": {},
     "output_type": "execute_result"
    }
   ],
   "source": [
    "#test rRD for my_df = 5/10 vs 10/20 \n",
    "\n",
    "ratio1 = 5/5\n",
    "ratio2 = 10/10\n",
    "dif = abs(ratio1-ratio2)\n",
    "rrd1 = (dif/math.log(10+1,2)+(0/math.log(20+1,2))) \n",
    "rrd1       "
   ]
  },
  {
   "cell_type": "code",
   "execution_count": null,
   "metadata": {},
   "outputs": [],
   "source": []
  },
  {
   "cell_type": "code",
   "execution_count": 18,
   "metadata": {},
   "outputs": [
    {
     "name": "stdout",
     "output_type": "stream",
     "text": [
      "0.28906482631788777\n"
     ]
    },
    {
     "data": {
      "text/plain": [
       "0.0"
      ]
     },
     "execution_count": 18,
     "metadata": {},
     "output_type": "execute_result"
    }
   ],
   "source": [
    "print(topnFair.getNormalizer(20,10,\"rRD\"))\n",
    "nrRD = rrd1/topnFair.getNormalizer(20,10,\"rRD\")\n",
    "nrRD"
   ]
  },
  {
   "cell_type": "code",
   "execution_count": 12,
   "metadata": {},
   "outputs": [
    {
     "name": "stdout",
     "output_type": "stream",
     "text": [
      "0.052932501298081136\n",
      "0.015300924294301195\n"
     ]
    }
   ],
   "source": [
    "#test rKL for my_df[\"protected\"] = [0,0,0,0,0,0,0,0,0,1,0,0,0,0,0,0,0,1,1,1] 1/10 vs 4/20\n",
    "\n",
    "px= 1/10\n",
    "qx=4/20\n",
    "\n",
    "rkl =(px*math.log(px/qx,2))+(1-px)*math.log((1-px)/(1-qx),2)\n",
    "\n",
    "print(rkl)\n",
    "print(rkl/math.log(11,2))"
   ]
  },
  {
   "cell_type": "code",
   "execution_count": 13,
   "metadata": {},
   "outputs": [
    {
     "name": "stdout",
     "output_type": "stream",
     "text": [
      "0.143765260709031\n",
      "0.04155748011740191\n"
     ]
    }
   ],
   "source": [
    "#test rKL for my_df[\"protected\"] = [0,0,0,0,0,0,0,0,0,0,0,0,0,0,0,0,0,0,1,1] 0/10 vs 2/20\n",
    "# corner case -- px cant be 0 thus set manuale to 0,001\n",
    "\n",
    "#px= 0/10 - px cant be 0 thus set manuale to 0,001\n",
    "px = 0.001\n",
    "qx=2/20\n",
    "\n",
    "rkl2 =(px*math.log(px/qx,2))+(1-px)*math.log((1-px)/(1-qx),2)\n",
    "\n",
    "print(rkl2)\n",
    "print(rkl2/math.log(11,2))"
   ]
  },
  {
   "cell_type": "code",
   "execution_count": null,
   "metadata": {},
   "outputs": [],
   "source": []
  },
  {
   "cell_type": "code",
   "execution_count": null,
   "metadata": {},
   "outputs": [],
   "source": []
  },
  {
   "cell_type": "code",
   "execution_count": null,
   "metadata": {},
   "outputs": [],
   "source": []
  }
 ],
 "metadata": {
  "kernelspec": {
   "display_name": "Python 3",
   "language": "python",
   "name": "python3"
  },
  "language_info": {
   "codemirror_mode": {
    "name": "ipython",
    "version": 3
   },
   "file_extension": ".py",
   "mimetype": "text/x-python",
   "name": "python",
   "nbconvert_exporter": "python",
   "pygments_lexer": "ipython3",
   "version": "3.7.1"
  }
 },
 "nbformat": 4,
 "nbformat_minor": 2
}
