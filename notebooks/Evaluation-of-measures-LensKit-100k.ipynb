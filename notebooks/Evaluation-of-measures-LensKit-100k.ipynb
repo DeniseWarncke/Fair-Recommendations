{
 "cells": [
  {
   "cell_type": "code",
   "execution_count": 1,
   "metadata": {},
   "outputs": [],
   "source": [
    "import os,sys,inspect\n",
    "currentdir = os.path.dirname(os.path.abspath(inspect.getfile(inspect.currentframe())))\n",
    "parentdir = os.path.dirname(currentdir)\n",
    "# Add parent dir to path, so that python finds the lenskit package\n",
    "sys.path.insert(0,parentdir) "
   ]
  },
  {
   "cell_type": "code",
   "execution_count": 2,
   "metadata": {},
   "outputs": [],
   "source": [
    "from lenskit.metrics import dataGenerator\n",
    "from lenskit import batch, topn, util, topnFair\n",
    "from lenskit import crossfold as xf\n",
    "from lenskit.algorithms import Recommender, als, funksvd, user_knn as uknn, item_knn as iknn \n",
    "from lenskit import topn, topnFair"
   ]
  },
  {
   "cell_type": "code",
   "execution_count": 3,
   "metadata": {},
   "outputs": [],
   "source": [
    "import numpy as np\n",
    "import pandas as pd\n",
    "import math\n",
    "import pickle\n",
    "%matplotlib inline"
   ]
  },
  {
   "cell_type": "code",
   "execution_count": 4,
   "metadata": {},
   "outputs": [],
   "source": [
    "test_data = pd.read_pickle(\"test_data_Lenskit2\")\n",
    "all_recs_joined = pd.read_pickle(\"all_recs_joined_Lenskit2\")"
   ]
  },
  {
   "cell_type": "code",
   "execution_count": null,
   "metadata": {},
   "outputs": [],
   "source": []
  },
  {
   "cell_type": "code",
   "execution_count": 5,
   "metadata": {},
   "outputs": [],
   "source": [
    "def evaluate_genre(genre): \n",
    "    \n",
    "    providers = list(all_recs_joined.iloc[:,8:])\n",
    "    proItems_genre_n =  all_recs_joined.loc[ all_recs_joined[genre] == 1].item.nunique()\n",
    "    print (genre)\n",
    "    rla = topnFair.FairRecListAnalysis(['user', \"Algorithm\"])\n",
    "    rla.add_metric(\"rND\")\n",
    "    rla.add_metric(\"rKL\")\n",
    "    rla.add_metric(\"rRD\")\n",
    "    rla.add_metric(\"APCR\")\n",
    "    rla.add_metric(\"nd_APCR\")\n",
    "    rla.add_metric(\"equal_ex\")\n",
    "    rla.add_metric(\"ndcg\")\n",
    "    results= rla.compute(all_recs_joined, test_data, genre, providers)\n",
    "    print(\"done\" , genre)\n",
    "    return results.groupby('Algorithm').mean()"
   ]
  },
  {
   "cell_type": "code",
   "execution_count": 6,
   "metadata": {},
   "outputs": [
    {
     "name": "stdout",
     "output_type": "stream",
     "text": [
      "Drama\n"
     ]
    },
    {
     "name": "stderr",
     "output_type": "stream",
     "text": [
      "C:\\Users\\josse\\Anaconda3\\lib\\site-packages\\pandas\\core\\indexing.py:1472: PerformanceWarning: indexing past lexsort depth may impact performance.\n",
      "  return self._getitem_tuple(key)\n"
     ]
    },
    {
     "name": "stdout",
     "output_type": "stream",
     "text": [
      "done Drama\n"
     ]
    }
   ],
   "source": [
    "testproviders = [\"Drama\"]\n",
    "#testproviders = list(all_recs_joined.iloc[:,8:])\n",
    "allResults = []\n",
    "for genre in testproviders:\n",
    "    rep = evaluate_genre(genre)\n",
    "    allResults.append(rep)    "
   ]
  },
  {
   "cell_type": "code",
   "execution_count": 7,
   "metadata": {},
   "outputs": [
    {
     "data": {
      "text/html": [
       "<div>\n",
       "<style scoped>\n",
       "    .dataframe tbody tr th:only-of-type {\n",
       "        vertical-align: middle;\n",
       "    }\n",
       "\n",
       "    .dataframe tbody tr th {\n",
       "        vertical-align: top;\n",
       "    }\n",
       "\n",
       "    .dataframe thead th {\n",
       "        text-align: right;\n",
       "    }\n",
       "</style>\n",
       "<table border=\"1\" class=\"dataframe\">\n",
       "  <thead>\n",
       "    <tr style=\"text-align: right;\">\n",
       "      <th></th>\n",
       "      <th></th>\n",
       "      <th>rND</th>\n",
       "      <th>rKL</th>\n",
       "      <th>rRD</th>\n",
       "      <th>APCR</th>\n",
       "      <th>nd_APCR</th>\n",
       "      <th>equal_ex</th>\n",
       "      <th>ndcg</th>\n",
       "    </tr>\n",
       "    <tr>\n",
       "      <th></th>\n",
       "      <th>Algorithm</th>\n",
       "      <th></th>\n",
       "      <th></th>\n",
       "      <th></th>\n",
       "      <th></th>\n",
       "      <th></th>\n",
       "      <th></th>\n",
       "      <th></th>\n",
       "    </tr>\n",
       "  </thead>\n",
       "  <tbody>\n",
       "    <tr>\n",
       "      <th rowspan=\"4\" valign=\"top\">Drama</th>\n",
       "      <th>ALS</th>\n",
       "      <td>0.051199</td>\n",
       "      <td>0.004966</td>\n",
       "      <td>0.068568</td>\n",
       "      <td>1.0</td>\n",
       "      <td>0.961838</td>\n",
       "      <td>0.995894</td>\n",
       "      <td>0.312561</td>\n",
       "    </tr>\n",
       "    <tr>\n",
       "      <th>FunkSVD</th>\n",
       "      <td>0.053351</td>\n",
       "      <td>0.003831</td>\n",
       "      <td>0.085831</td>\n",
       "      <td>1.0</td>\n",
       "      <td>0.959206</td>\n",
       "      <td>0.989653</td>\n",
       "      <td>0.271353</td>\n",
       "    </tr>\n",
       "    <tr>\n",
       "      <th>ItemItem</th>\n",
       "      <td>0.052188</td>\n",
       "      <td>0.005619</td>\n",
       "      <td>0.072413</td>\n",
       "      <td>1.0</td>\n",
       "      <td>0.961785</td>\n",
       "      <td>0.987928</td>\n",
       "      <td>0.288700</td>\n",
       "    </tr>\n",
       "    <tr>\n",
       "      <th>UserUser</th>\n",
       "      <td>0.065563</td>\n",
       "      <td>0.007243</td>\n",
       "      <td>0.102991</td>\n",
       "      <td>1.0</td>\n",
       "      <td>0.962698</td>\n",
       "      <td>0.981984</td>\n",
       "      <td>0.266556</td>\n",
       "    </tr>\n",
       "  </tbody>\n",
       "</table>\n",
       "</div>"
      ],
      "text/plain": [
       "                      rND       rKL       rRD  APCR   nd_APCR  equal_ex  \\\n",
       "      Algorithm                                                           \n",
       "Drama ALS        0.051199  0.004966  0.068568   1.0  0.961838  0.995894   \n",
       "      FunkSVD    0.053351  0.003831  0.085831   1.0  0.959206  0.989653   \n",
       "      ItemItem   0.052188  0.005619  0.072413   1.0  0.961785  0.987928   \n",
       "      UserUser   0.065563  0.007243  0.102991   1.0  0.962698  0.981984   \n",
       "\n",
       "                     ndcg  \n",
       "      Algorithm            \n",
       "Drama ALS        0.312561  \n",
       "      FunkSVD    0.271353  \n",
       "      ItemItem   0.288700  \n",
       "      UserUser   0.266556  "
      ]
     },
     "execution_count": 7,
     "metadata": {},
     "output_type": "execute_result"
    }
   ],
   "source": [
    "output = pd.concat(allResults, keys=testproviders)\n",
    "output"
   ]
  },
  {
   "cell_type": "code",
   "execution_count": 8,
   "metadata": {},
   "outputs": [],
   "source": [
    "output.to_csv('out_1.csv')"
   ]
  },
  {
   "cell_type": "code",
   "execution_count": null,
   "metadata": {},
   "outputs": [],
   "source": []
  }
 ],
 "metadata": {
  "kernelspec": {
   "display_name": "Python 3",
   "language": "python",
   "name": "python3"
  },
  "language_info": {
   "codemirror_mode": {
    "name": "ipython",
    "version": 3
   },
   "file_extension": ".py",
   "mimetype": "text/x-python",
   "name": "python",
   "nbconvert_exporter": "python",
   "pygments_lexer": "ipython3",
   "version": "3.7.1"
  }
 },
 "nbformat": 4,
 "nbformat_minor": 2
}
