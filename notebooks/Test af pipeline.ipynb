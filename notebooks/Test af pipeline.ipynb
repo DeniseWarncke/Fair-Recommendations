{
 "cells": [
  {
   "cell_type": "code",
   "execution_count": 1,
   "metadata": {},
   "outputs": [],
   "source": [
    "import os,sys,inspect\n",
    "currentdir = os.path.dirname(os.path.abspath(inspect.getfile(inspect.currentframe())))\n",
    "parentdir = os.path.dirname(currentdir)\n",
    "# Add parent dir to path, so that python finds the lenskit package\n",
    "sys.path.insert(0,parentdir) "
   ]
  },
  {
   "cell_type": "code",
   "execution_count": 2,
   "metadata": {},
   "outputs": [],
   "source": [
    "from lenskit.metrics import dataGenerator\n",
    "from lenskit import batch, topn, util, topnFair\n",
    "from lenskit import crossfold as xf\n",
    "from lenskit.algorithms import Recommender, als, funksvd, user_knn as uknn, item_knn as iknn \n",
    "from lenskit import topn, topnFair"
   ]
  },
  {
   "cell_type": "code",
   "execution_count": 3,
   "metadata": {},
   "outputs": [],
   "source": [
    "import numpy as np\n",
    "import pandas as pd\n",
    "import math\n",
    "import pickle\n",
    "%matplotlib inline"
   ]
  },
  {
   "cell_type": "code",
   "execution_count": 4,
   "metadata": {},
   "outputs": [],
   "source": [
    "test_data = pd.read_pickle(\"test_data_Lenskit2\")\n",
    "all_recs_joined = pd.read_pickle(\"all_recs_joined_Lenskit2\")"
   ]
  },
  {
   "cell_type": "code",
   "execution_count": 5,
   "metadata": {},
   "outputs": [],
   "source": [
    "testdata = all_recs_joined.loc[(all_recs_joined[\"user\"] == 1) | (all_recs_joined[\"user\"] == 1)]\n",
    "testdata = all_recs_joined.loc[(all_recs_joined[\"user\"] == 1) & (all_recs_joined[\"Algorithm\"] == \"ALS\")]\n",
    "testdata = testdata.iloc[0:100,:] \n",
    "#testdata.loc[testdata[\"Action\"]==1].shape \n"
   ]
  },
  {
   "cell_type": "code",
   "execution_count": 6,
   "metadata": {},
   "outputs": [],
   "source": [
    "def evaluate_genre(genre): \n",
    "    \n",
    "    providers = list(all_recs_joined.iloc[:,8:])\n",
    "    proItems_genre_n =  all_recs_joined.loc[ all_recs_joined[genre] == 1].item.nunique()\n",
    "    print (genre)\n",
    "    rla = topnFair.FairRecListAnalysis(['user', \"Algorithm\"])\n",
    "    rla.add_metric(\"rND\")\n",
    "    #rla.add_metric(\"rKL\")\n",
    "    #rla.add_metric(\"rRD\")\n",
    "    #rla.add_metric(\"APCR\")\n",
    "    rla.add_metric(\"nd_APCR\")\n",
    "    #rla.add_metric(\"equal_ex\")\n",
    "    #rla.add_metric(\"ndcg\")\n",
    "    results= rla.compute(testdata, test_data, genre, providers)\n",
    "    #results_horror.groupby('Algorithm').mean()\n",
    "    print(\"done\" , genre)\n",
    "    return results.groupby('Algorithm').mean()"
   ]
  },
  {
   "cell_type": "code",
   "execution_count": 7,
   "metadata": {},
   "outputs": [
    {
     "name": "stdout",
     "output_type": "stream",
     "text": [
      "Action\n",
      "calculate normalizer :  100 + 18 + rND\n",
      "0.6050285048051399\n",
      "done Action\n"
     ]
    },
    {
     "name": "stderr",
     "output_type": "stream",
     "text": [
      "C:\\Users\\josse\\Anaconda3\\lib\\site-packages\\pandas\\core\\indexing.py:1472: PerformanceWarning: indexing past lexsort depth may impact performance.\n",
      "  return self._getitem_tuple(key)\n"
     ]
    }
   ],
   "source": [
    "testproviders = [\"Action\"]\n",
    "#testproviders = list(all_recs_joined.iloc[:,8:])\n",
    "allResults = []\n",
    "for genre in testproviders:\n",
    "    rep = evaluate_genre(genre)\n",
    "    allResults.append(rep)    "
   ]
  },
  {
   "cell_type": "code",
   "execution_count": 8,
   "metadata": {},
   "outputs": [
    {
     "data": {
      "text/html": [
       "<div>\n",
       "<style scoped>\n",
       "    .dataframe tbody tr th:only-of-type {\n",
       "        vertical-align: middle;\n",
       "    }\n",
       "\n",
       "    .dataframe tbody tr th {\n",
       "        vertical-align: top;\n",
       "    }\n",
       "\n",
       "    .dataframe thead th {\n",
       "        text-align: right;\n",
       "    }\n",
       "</style>\n",
       "<table border=\"1\" class=\"dataframe\">\n",
       "  <thead>\n",
       "    <tr style=\"text-align: right;\">\n",
       "      <th></th>\n",
       "      <th></th>\n",
       "      <th>rND</th>\n",
       "      <th>nd_APCR</th>\n",
       "    </tr>\n",
       "    <tr>\n",
       "      <th></th>\n",
       "      <th>Algorithm</th>\n",
       "      <th></th>\n",
       "      <th></th>\n",
       "    </tr>\n",
       "  </thead>\n",
       "  <tbody>\n",
       "    <tr>\n",
       "      <th>Action</th>\n",
       "      <th>ALS</th>\n",
       "      <td>0.207064</td>\n",
       "      <td>0.771326</td>\n",
       "    </tr>\n",
       "  </tbody>\n",
       "</table>\n",
       "</div>"
      ],
      "text/plain": [
       "                       rND   nd_APCR\n",
       "       Algorithm                    \n",
       "Action ALS        0.207064  0.771326"
      ]
     },
     "execution_count": 8,
     "metadata": {},
     "output_type": "execute_result"
    }
   ],
   "source": [
    "output = pd.concat(allResults, keys=testproviders)\n",
    "output"
   ]
  },
  {
   "cell_type": "code",
   "execution_count": 9,
   "metadata": {},
   "outputs": [],
   "source": [
    "#topnFair.getNormalizer(,7, \"rND\")"
   ]
  },
  {
   "cell_type": "code",
   "execution_count": 10,
   "metadata": {},
   "outputs": [
    {
     "data": {
      "text/plain": [
       "0.09091469163356969"
      ]
     },
     "execution_count": 10,
     "metadata": {},
     "output_type": "execute_result"
    }
   ],
   "source": [
    "(((4/10)-(18/100))/math.log(11,2))+(((6/20)-(18/100))/math.log(21,2))"
   ]
  },
  {
   "cell_type": "code",
   "execution_count": 11,
   "metadata": {},
   "outputs": [
    {
     "data": {
      "text/plain": [
       "0.12459694278133669"
      ]
     },
     "execution_count": 11,
     "metadata": {},
     "output_type": "execute_result"
    }
   ],
   "source": [
    "(((4/10)-(18/100))/math.log(11,2))+(((6/20)-(18/100))/math.log(21,2))+((7/30)-(18/100))/math.log(31,2)+((9/40)-(18/100))/math.log(41,2)+((11/50)-(18/100))/math.log(51,2)+((12/60)-(18/100))/math.log(61,2)+((14/70)-(18/100))/math.log(71,2)+((15/80)-(18/100))/math.log(81,2)+((16/90)-(18/100))/math.log(91,2)+((18/100)-(18/100))/math.log(101,2)\n"
   ]
  },
  {
   "cell_type": "code",
   "execution_count": null,
   "metadata": {},
   "outputs": [],
   "source": []
  }
 ],
 "metadata": {
  "kernelspec": {
   "display_name": "Python 3",
   "language": "python",
   "name": "python3"
  },
  "language_info": {
   "codemirror_mode": {
    "name": "ipython",
    "version": 3
   },
   "file_extension": ".py",
   "mimetype": "text/x-python",
   "name": "python",
   "nbconvert_exporter": "python",
   "pygments_lexer": "ipython3",
   "version": "3.7.1"
  }
 },
 "nbformat": 4,
 "nbformat_minor": 2
}
