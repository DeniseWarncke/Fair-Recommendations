{
 "cells": [
  {
   "cell_type": "code",
   "execution_count": 4,
   "metadata": {},
   "outputs": [],
   "source": [
    "from lenskit import batch, topn, util\n",
    "from lenskit import crossfold as xf\n",
    "from lenskit.algorithms import Recommender, als, item_knn as knn\n",
    "from lenskit import topn"
   ]
  },
  {
   "cell_type": "code",
   "execution_count": 6,
   "metadata": {},
   "outputs": [],
   "source": [
    "import numpy as np\n",
    "import pandas as pd"
   ]
  },
  {
   "cell_type": "code",
   "execution_count": 8,
   "metadata": {},
   "outputs": [],
   "source": [
    " def loadData():  \n",
    "        ratings = pd.read_csv('/Users/josse/Desktop/ratings.dat', sep='::',\n",
    "                      names=['user', 'item', 'rating', 'timestamp'])\n",
    "        print (ratings.head())\n",
    "        return(ratings)"
   ]
  },
  {
   "cell_type": "code",
   "execution_count": 9,
   "metadata": {},
   "outputs": [
    {
     "name": "stderr",
     "output_type": "stream",
     "text": [
      "C:\\Users\\josse\\Anaconda3\\lib\\site-packages\\ipykernel_launcher.py:3: ParserWarning: Falling back to the 'python' engine because the 'c' engine does not support regex separators (separators > 1 char and different from '\\s+' are interpreted as regex); you can avoid this warning by specifying engine='python'.\n",
      "  This is separate from the ipykernel package so we can avoid doing imports until\n"
     ]
    },
    {
     "name": "stdout",
     "output_type": "stream",
     "text": [
      "   user  item  rating  timestamp\n",
      "0     1  1193       5  978300760\n",
      "1     1   661       3  978302109\n",
      "2     1   914       3  978301968\n",
      "3     1  3408       4  978300275\n",
      "4     1  2355       5  978824291\n"
     ]
    }
   ],
   "source": [
    "ratings = loadData()\n",
    "algo_ii = knn.ItemItem(20)\n",
    "algo_als = als.BiasedMF(50)"
   ]
  },
  {
   "cell_type": "code",
   "execution_count": 12,
   "metadata": {},
   "outputs": [],
   "source": [
    "def eval(aname, algo, train, test):\n",
    "        fittable = util.clone(algo)\n",
    "        fittable = Recommender.adapt(fittable)\n",
    "        fittable.fit(train)\n",
    "        users = test.user.unique()\n",
    "        # now we run the recommender\n",
    "        recs = batch.recommend(fittable, users, 100)\n",
    "        # add the algorithm name for analyzability\n",
    "        recs['Algorithm'] = aname\n",
    "        print(\"recs\" + aname)\n",
    "        print (recs.head())\n",
    "        return recs"
   ]
  },
  {
   "cell_type": "code",
   "execution_count": 13,
   "metadata": {},
   "outputs": [],
   "source": [
    "all_recs = []\n",
    "test_data = []"
   ]
  },
  {
   "cell_type": "code",
   "execution_count": 14,
   "metadata": {},
   "outputs": [
    {
     "name": "stdout",
     "output_type": "stream",
     "text": [
      "test _reccomend\n",
      "recsItemItem\n",
      "   item     score  user  rank Algorithm\n",
      "0    53  5.770478     1     1  ItemItem\n",
      "1   557  5.514972     1     2  ItemItem\n",
      "2   439  5.295544     1     3  ItemItem\n",
      "3   598  5.083250     1     4  ItemItem\n",
      "4  3517  5.072097     1     5  ItemItem\n",
      "test _reccomend\n",
      "recsALS\n",
      "   item     score  user  rank Algorithm\n",
      "0   318  4.723838     1     1       ALS\n",
      "1   858  4.709560     1     2       ALS\n",
      "2   904  4.673531     1     3       ALS\n",
      "3   922  4.666765     1     4       ALS\n",
      "4  1212  4.617385     1     5       ALS\n"
     ]
    }
   ],
   "source": [
    "for train, test in xf.partition_users(ratings[['user', 'item', 'rating']], 1, xf.SampleFrac(0.2)):\n",
    "    test_data.append(test)\n",
    "    #print(test.head(10))\n",
    "    all_recs.append(eval('ItemItem', algo_ii, train, test))\n",
    "    all_recs.append(eval('ALS', algo_als, train, test))"
   ]
  },
  {
   "cell_type": "code",
   "execution_count": null,
   "metadata": {},
   "outputs": [],
   "source": []
  }
 ],
 "metadata": {
  "kernelspec": {
   "display_name": "Python 3",
   "language": "python",
   "name": "python3"
  },
  "language_info": {
   "codemirror_mode": {
    "name": "ipython",
    "version": 3
   },
   "file_extension": ".py",
   "mimetype": "text/x-python",
   "name": "python",
   "nbconvert_exporter": "python",
   "pygments_lexer": "ipython3",
   "version": "3.7.1"
  }
 },
 "nbformat": 4,
 "nbformat_minor": 2
}
